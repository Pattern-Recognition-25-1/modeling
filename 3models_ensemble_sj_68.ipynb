{
  "cells": [
    {
      "cell_type": "markdown",
      "metadata": {
        "id": "3GXN9CjVwU7C"
      },
      "source": [
        "\n",
        "\n",
        "---\n",
        "\n"
      ]
    },
    {
      "cell_type": "code",
      "execution_count": 1,
      "metadata": {},
      "outputs": [
        {
          "name": "stderr",
          "output_type": "stream",
          "text": [
            "/Users/sojeonglee/anaconda3/lib/python3.11/site-packages/pandas/core/arrays/masked.py:60: UserWarning: Pandas requires version '1.3.6' or newer of 'bottleneck' (version '1.3.5' currently installed).\n",
            "  from pandas.core import (\n"
          ]
        }
      ],
      "source": [
        "import numpy as np\n",
        "import pandas as pd\n",
        "import matplotlib.pyplot as plt\n",
        "import seaborn as sns\n",
        "from sklearn.model_selection import train_test_split, GridSearchCV, KFold\n",
        "from sklearn.preprocessing import StandardScaler\n",
        "from sklearn.metrics import accuracy_score, f1_score, roc_auc_score, make_scorer\n",
        "from sklearn.ensemble import RandomForestClassifier\n",
        "import xgboost as xgb\n",
        "import lightgbm as lgb\n",
        "from scipy.stats.mstats import winsorize"
      ]
    },
    {
      "cell_type": "markdown",
      "metadata": {
        "id": "i8a5HccX5IVD"
      },
      "source": [
        "# preprocessing_v1\n",
        "- winsorize 시각화 부분은 실행 시간이 길어서 임시로 주석 처리했습니다"
      ]
    },
    {
      "cell_type": "code",
      "execution_count": 2,
      "metadata": {
        "colab": {
          "base_uri": "https://localhost:8080/",
          "height": 0
        },
        "collapsed": true,
        "id": "ATqxzb5SdhW6",
        "outputId": "869f2874-3e55-47a1-c327-4b3914140b2d"
      },
      "outputs": [
        {
          "data": {
            "text/html": [
              "<div>\n",
              "<style scoped>\n",
              "    .dataframe tbody tr th:only-of-type {\n",
              "        vertical-align: middle;\n",
              "    }\n",
              "\n",
              "    .dataframe tbody tr th {\n",
              "        vertical-align: top;\n",
              "    }\n",
              "\n",
              "    .dataframe thead th {\n",
              "        text-align: right;\n",
              "    }\n",
              "</style>\n",
              "<table border=\"1\" class=\"dataframe\">\n",
              "  <thead>\n",
              "    <tr style=\"text-align: right;\">\n",
              "      <th></th>\n",
              "      <th>id</th>\n",
              "      <th>n_tokens_title</th>\n",
              "      <th>n_tokens_content</th>\n",
              "      <th>n_unique_tokens</th>\n",
              "      <th>n_non_stop_words</th>\n",
              "      <th>n_non_stop_unique_tokens</th>\n",
              "      <th>num_hrefs</th>\n",
              "      <th>num_self_hrefs</th>\n",
              "      <th>num_imgs</th>\n",
              "      <th>num_videos</th>\n",
              "      <th>...</th>\n",
              "      <th>min_negative_polarity</th>\n",
              "      <th>max_negative_polarity</th>\n",
              "      <th>title_subjectivity</th>\n",
              "      <th>title_sentiment_polarity</th>\n",
              "      <th>abs_title_subjectivity</th>\n",
              "      <th>abs_title_sentiment_polarity</th>\n",
              "      <th>data_channel</th>\n",
              "      <th>weekday</th>\n",
              "      <th>shares</th>\n",
              "      <th>y</th>\n",
              "    </tr>\n",
              "  </thead>\n",
              "  <tbody>\n",
              "    <tr>\n",
              "      <th>0</th>\n",
              "      <td>17335</td>\n",
              "      <td>9.0</td>\n",
              "      <td>409.0</td>\n",
              "      <td>0.501326</td>\n",
              "      <td>1.0</td>\n",
              "      <td>0.587361</td>\n",
              "      <td>23.0</td>\n",
              "      <td>2.0</td>\n",
              "      <td>11.0</td>\n",
              "      <td>0.0</td>\n",
              "      <td>...</td>\n",
              "      <td>-0.1875</td>\n",
              "      <td>-0.1</td>\n",
              "      <td>0.50</td>\n",
              "      <td>0.500</td>\n",
              "      <td>0.00</td>\n",
              "      <td>0.500</td>\n",
              "      <td>Lifestyle</td>\n",
              "      <td>NaN</td>\n",
              "      <td>801</td>\n",
              "      <td>0</td>\n",
              "    </tr>\n",
              "    <tr>\n",
              "      <th>1</th>\n",
              "      <td>21242</td>\n",
              "      <td>10.0</td>\n",
              "      <td>317.0</td>\n",
              "      <td>0.725086</td>\n",
              "      <td>1.0</td>\n",
              "      <td>0.830097</td>\n",
              "      <td>6.0</td>\n",
              "      <td>3.0</td>\n",
              "      <td>NaN</td>\n",
              "      <td>21.0</td>\n",
              "      <td>...</td>\n",
              "      <td>-0.6000</td>\n",
              "      <td>NaN</td>\n",
              "      <td>0.00</td>\n",
              "      <td>0.000</td>\n",
              "      <td>0.50</td>\n",
              "      <td>0.000</td>\n",
              "      <td>Lifestyle</td>\n",
              "      <td>Tuesday</td>\n",
              "      <td>426</td>\n",
              "      <td>0</td>\n",
              "    </tr>\n",
              "    <tr>\n",
              "      <th>2</th>\n",
              "      <td>9448</td>\n",
              "      <td>11.0</td>\n",
              "      <td>447.0</td>\n",
              "      <td>0.584091</td>\n",
              "      <td>1.0</td>\n",
              "      <td>0.730104</td>\n",
              "      <td>NaN</td>\n",
              "      <td>1.0</td>\n",
              "      <td>1.0</td>\n",
              "      <td>1.0</td>\n",
              "      <td>...</td>\n",
              "      <td>-0.5000</td>\n",
              "      <td>-0.1</td>\n",
              "      <td>0.75</td>\n",
              "      <td>0.125</td>\n",
              "      <td>0.25</td>\n",
              "      <td>0.125</td>\n",
              "      <td>World</td>\n",
              "      <td>Friday</td>\n",
              "      <td>2400</td>\n",
              "      <td>1</td>\n",
              "    </tr>\n",
              "    <tr>\n",
              "      <th>3</th>\n",
              "      <td>36797</td>\n",
              "      <td>13.0</td>\n",
              "      <td>143.0</td>\n",
              "      <td>0.638298</td>\n",
              "      <td>NaN</td>\n",
              "      <td>0.787500</td>\n",
              "      <td>3.0</td>\n",
              "      <td>2.0</td>\n",
              "      <td>NaN</td>\n",
              "      <td>0.0</td>\n",
              "      <td>...</td>\n",
              "      <td>0.0000</td>\n",
              "      <td>0.0</td>\n",
              "      <td>1.00</td>\n",
              "      <td>NaN</td>\n",
              "      <td>0.50</td>\n",
              "      <td>0.500</td>\n",
              "      <td>Social Media</td>\n",
              "      <td>NaN</td>\n",
              "      <td>1100</td>\n",
              "      <td>0</td>\n",
              "    </tr>\n",
              "    <tr>\n",
              "      <th>4</th>\n",
              "      <td>29504</td>\n",
              "      <td>17.0</td>\n",
              "      <td>576.0</td>\n",
              "      <td>0.524412</td>\n",
              "      <td>1.0</td>\n",
              "      <td>0.714286</td>\n",
              "      <td>8.0</td>\n",
              "      <td>3.0</td>\n",
              "      <td>NaN</td>\n",
              "      <td>0.0</td>\n",
              "      <td>...</td>\n",
              "      <td>-1.0000</td>\n",
              "      <td>-0.1</td>\n",
              "      <td>0.00</td>\n",
              "      <td>0.000</td>\n",
              "      <td>0.50</td>\n",
              "      <td>0.000</td>\n",
              "      <td>World</td>\n",
              "      <td>Wednesday</td>\n",
              "      <td>1500</td>\n",
              "      <td>1</td>\n",
              "    </tr>\n",
              "  </tbody>\n",
              "</table>\n",
              "<p>5 rows × 49 columns</p>\n",
              "</div>"
            ],
            "text/plain": [
              "      id  n_tokens_title  n_tokens_content  n_unique_tokens  n_non_stop_words  \\\n",
              "0  17335             9.0             409.0         0.501326               1.0   \n",
              "1  21242            10.0             317.0         0.725086               1.0   \n",
              "2   9448            11.0             447.0         0.584091               1.0   \n",
              "3  36797            13.0             143.0         0.638298               NaN   \n",
              "4  29504            17.0             576.0         0.524412               1.0   \n",
              "\n",
              "   n_non_stop_unique_tokens  num_hrefs  num_self_hrefs  num_imgs  num_videos  \\\n",
              "0                  0.587361       23.0             2.0      11.0         0.0   \n",
              "1                  0.830097        6.0             3.0       NaN        21.0   \n",
              "2                  0.730104        NaN             1.0       1.0         1.0   \n",
              "3                  0.787500        3.0             2.0       NaN         0.0   \n",
              "4                  0.714286        8.0             3.0       NaN         0.0   \n",
              "\n",
              "   ...  min_negative_polarity  max_negative_polarity  title_subjectivity  \\\n",
              "0  ...                -0.1875                   -0.1                0.50   \n",
              "1  ...                -0.6000                    NaN                0.00   \n",
              "2  ...                -0.5000                   -0.1                0.75   \n",
              "3  ...                 0.0000                    0.0                1.00   \n",
              "4  ...                -1.0000                   -0.1                0.00   \n",
              "\n",
              "   title_sentiment_polarity  abs_title_subjectivity  \\\n",
              "0                     0.500                    0.00   \n",
              "1                     0.000                    0.50   \n",
              "2                     0.125                    0.25   \n",
              "3                       NaN                    0.50   \n",
              "4                     0.000                    0.50   \n",
              "\n",
              "   abs_title_sentiment_polarity  data_channel    weekday  shares  y  \n",
              "0                         0.500     Lifestyle        NaN     801  0  \n",
              "1                         0.000     Lifestyle    Tuesday     426  0  \n",
              "2                         0.125         World     Friday    2400  1  \n",
              "3                         0.500  Social Media        NaN    1100  0  \n",
              "4                         0.000         World  Wednesday    1500  1  \n",
              "\n",
              "[5 rows x 49 columns]"
            ]
          },
          "execution_count": 2,
          "metadata": {},
          "output_type": "execute_result"
        }
      ],
      "source": [
        "import numpy as np\n",
        "import pandas as pd\n",
        "import seaborn as sns\n",
        "import matplotlib.pyplot as plt\n",
        "from sklearn.preprocessing import StandardScaler\n",
        "from sklearn.decomposition import PCA\n",
        "\n",
        "# CSV 파일 불러오기\n",
        "df = pd.read_csv('train.csv')\n",
        "df.head()"
      ]
    },
    {
      "cell_type": "code",
      "execution_count": 3,
      "metadata": {
        "colab": {
          "base_uri": "https://localhost:8080/"
        },
        "collapsed": true,
        "id": "D6MQrG6MgunR",
        "outputId": "fac0a5ca-1e15-4323-ae6d-72326898daf2"
      },
      "outputs": [
        {
          "name": "stdout",
          "output_type": "stream",
          "text": [
            "<class 'pandas.core.frame.DataFrame'>\n",
            "RangeIndex: 22200 entries, 0 to 22199\n",
            "Data columns (total 49 columns):\n",
            " #   Column                        Non-Null Count  Dtype  \n",
            "---  ------                        --------------  -----  \n",
            " 0   id                            22200 non-null  int64  \n",
            " 1   n_tokens_title                20000 non-null  float64\n",
            " 2   n_tokens_content              20054 non-null  float64\n",
            " 3   n_unique_tokens               19942 non-null  float64\n",
            " 4   n_non_stop_words              20017 non-null  float64\n",
            " 5   n_non_stop_unique_tokens      19944 non-null  float64\n",
            " 6   num_hrefs                     19967 non-null  float64\n",
            " 7   num_self_hrefs                19920 non-null  float64\n",
            " 8   num_imgs                      19986 non-null  float64\n",
            " 9   num_videos                    19906 non-null  float64\n",
            " 10  average_token_length          19987 non-null  float64\n",
            " 11  num_keywords                  19955 non-null  float64\n",
            " 12  kw_min_min                    19984 non-null  float64\n",
            " 13  kw_max_min                    20021 non-null  float64\n",
            " 14  kw_avg_min                    19971 non-null  float64\n",
            " 15  kw_min_max                    19985 non-null  float64\n",
            " 16  kw_max_max                    19968 non-null  float64\n",
            " 17  kw_avg_max                    20040 non-null  float64\n",
            " 18  kw_min_avg                    20049 non-null  float64\n",
            " 19  kw_max_avg                    20018 non-null  float64\n",
            " 20  kw_avg_avg                    20023 non-null  float64\n",
            " 21  self_reference_min_shares     19994 non-null  float64\n",
            " 22  self_reference_max_shares     20026 non-null  float64\n",
            " 23  self_reference_avg_sharess    19954 non-null  float64\n",
            " 24  LDA_00                        19976 non-null  float64\n",
            " 25  LDA_01                        19998 non-null  float64\n",
            " 26  LDA_02                        20047 non-null  float64\n",
            " 27  LDA_03                        19957 non-null  float64\n",
            " 28  LDA_04                        20013 non-null  float64\n",
            " 29  global_subjectivity           19946 non-null  float64\n",
            " 30  global_sentiment_polarity     19969 non-null  float64\n",
            " 31  global_rate_positive_words    19966 non-null  float64\n",
            " 32  global_rate_negative_words    19951 non-null  float64\n",
            " 33  rate_positive_words           19981 non-null  float64\n",
            " 34  rate_negative_words           19958 non-null  float64\n",
            " 35  avg_positive_polarity         20050 non-null  float64\n",
            " 36  min_positive_polarity         19958 non-null  float64\n",
            " 37  max_positive_polarity         20033 non-null  float64\n",
            " 38  avg_negative_polarity         19916 non-null  float64\n",
            " 39  min_negative_polarity         19926 non-null  float64\n",
            " 40  max_negative_polarity         19997 non-null  float64\n",
            " 41  title_subjectivity            19928 non-null  float64\n",
            " 42  title_sentiment_polarity      19967 non-null  float64\n",
            " 43  abs_title_subjectivity        19934 non-null  float64\n",
            " 44  abs_title_sentiment_polarity  19951 non-null  float64\n",
            " 45  data_channel                  20053 non-null  object \n",
            " 46  weekday                       20087 non-null  object \n",
            " 47  shares                        22200 non-null  int64  \n",
            " 48  y                             22200 non-null  int64  \n",
            "dtypes: float64(44), int64(3), object(2)\n",
            "memory usage: 8.3+ MB\n"
          ]
        }
      ],
      "source": [
        "df.info()"
      ]
    },
    {
      "cell_type": "code",
      "execution_count": 4,
      "metadata": {
        "colab": {
          "base_uri": "https://localhost:8080/",
          "height": 0
        },
        "id": "rgZMfOkeHd4w",
        "outputId": "3ce42545-758d-455e-848c-f240284cba1c"
      },
      "outputs": [
        {
          "data": {
            "text/html": [
              "<div>\n",
              "<style scoped>\n",
              "    .dataframe tbody tr th:only-of-type {\n",
              "        vertical-align: middle;\n",
              "    }\n",
              "\n",
              "    .dataframe tbody tr th {\n",
              "        vertical-align: top;\n",
              "    }\n",
              "\n",
              "    .dataframe thead th {\n",
              "        text-align: right;\n",
              "    }\n",
              "</style>\n",
              "<table border=\"1\" class=\"dataframe\">\n",
              "  <thead>\n",
              "    <tr style=\"text-align: right;\">\n",
              "      <th></th>\n",
              "      <th>id</th>\n",
              "      <th>n_tokens_title</th>\n",
              "      <th>n_tokens_content</th>\n",
              "      <th>n_unique_tokens</th>\n",
              "      <th>n_non_stop_words</th>\n",
              "      <th>n_non_stop_unique_tokens</th>\n",
              "      <th>num_hrefs</th>\n",
              "      <th>num_self_hrefs</th>\n",
              "      <th>num_imgs</th>\n",
              "      <th>num_videos</th>\n",
              "      <th>...</th>\n",
              "      <th>max_positive_polarity</th>\n",
              "      <th>avg_negative_polarity</th>\n",
              "      <th>min_negative_polarity</th>\n",
              "      <th>max_negative_polarity</th>\n",
              "      <th>title_subjectivity</th>\n",
              "      <th>title_sentiment_polarity</th>\n",
              "      <th>abs_title_subjectivity</th>\n",
              "      <th>abs_title_sentiment_polarity</th>\n",
              "      <th>shares</th>\n",
              "      <th>y</th>\n",
              "    </tr>\n",
              "  </thead>\n",
              "  <tbody>\n",
              "    <tr>\n",
              "      <th>count</th>\n",
              "      <td>22200.000000</td>\n",
              "      <td>20000.000000</td>\n",
              "      <td>20054.000000</td>\n",
              "      <td>19942.000000</td>\n",
              "      <td>20017.000000</td>\n",
              "      <td>19944.000000</td>\n",
              "      <td>19967.000000</td>\n",
              "      <td>19920.000000</td>\n",
              "      <td>19986.000000</td>\n",
              "      <td>19906.000000</td>\n",
              "      <td>...</td>\n",
              "      <td>20033.000000</td>\n",
              "      <td>19916.000000</td>\n",
              "      <td>19926.000000</td>\n",
              "      <td>19997.000000</td>\n",
              "      <td>19928.000000</td>\n",
              "      <td>19967.000000</td>\n",
              "      <td>19934.000000</td>\n",
              "      <td>19951.000000</td>\n",
              "      <td>22200.000000</td>\n",
              "      <td>22200.000000</td>\n",
              "    </tr>\n",
              "    <tr>\n",
              "      <th>mean</th>\n",
              "      <td>19856.270045</td>\n",
              "      <td>10.387150</td>\n",
              "      <td>543.920614</td>\n",
              "      <td>0.530611</td>\n",
              "      <td>0.970175</td>\n",
              "      <td>0.672893</td>\n",
              "      <td>10.840337</td>\n",
              "      <td>3.303263</td>\n",
              "      <td>4.473431</td>\n",
              "      <td>1.248669</td>\n",
              "      <td>...</td>\n",
              "      <td>0.755952</td>\n",
              "      <td>-0.259972</td>\n",
              "      <td>-0.523223</td>\n",
              "      <td>-0.107647</td>\n",
              "      <td>0.284772</td>\n",
              "      <td>0.070169</td>\n",
              "      <td>0.342966</td>\n",
              "      <td>0.155305</td>\n",
              "      <td>3459.794865</td>\n",
              "      <td>0.495676</td>\n",
              "    </tr>\n",
              "    <tr>\n",
              "      <th>std</th>\n",
              "      <td>11469.556277</td>\n",
              "      <td>2.105585</td>\n",
              "      <td>460.694982</td>\n",
              "      <td>0.138709</td>\n",
              "      <td>0.170108</td>\n",
              "      <td>0.155004</td>\n",
              "      <td>11.024976</td>\n",
              "      <td>3.944523</td>\n",
              "      <td>8.092647</td>\n",
              "      <td>4.087507</td>\n",
              "      <td>...</td>\n",
              "      <td>0.248262</td>\n",
              "      <td>0.127974</td>\n",
              "      <td>0.289365</td>\n",
              "      <td>0.096059</td>\n",
              "      <td>0.327151</td>\n",
              "      <td>0.264686</td>\n",
              "      <td>0.188498</td>\n",
              "      <td>0.225603</td>\n",
              "      <td>12767.254516</td>\n",
              "      <td>0.499993</td>\n",
              "    </tr>\n",
              "    <tr>\n",
              "      <th>min</th>\n",
              "      <td>1.000000</td>\n",
              "      <td>3.000000</td>\n",
              "      <td>0.000000</td>\n",
              "      <td>0.000000</td>\n",
              "      <td>0.000000</td>\n",
              "      <td>0.000000</td>\n",
              "      <td>0.000000</td>\n",
              "      <td>0.000000</td>\n",
              "      <td>0.000000</td>\n",
              "      <td>0.000000</td>\n",
              "      <td>...</td>\n",
              "      <td>0.000000</td>\n",
              "      <td>-1.000000</td>\n",
              "      <td>-1.000000</td>\n",
              "      <td>-1.000000</td>\n",
              "      <td>0.000000</td>\n",
              "      <td>-1.000000</td>\n",
              "      <td>0.000000</td>\n",
              "      <td>0.000000</td>\n",
              "      <td>22.000000</td>\n",
              "      <td>0.000000</td>\n",
              "    </tr>\n",
              "    <tr>\n",
              "      <th>25%</th>\n",
              "      <td>9948.750000</td>\n",
              "      <td>9.000000</td>\n",
              "      <td>246.000000</td>\n",
              "      <td>0.471005</td>\n",
              "      <td>1.000000</td>\n",
              "      <td>0.626836</td>\n",
              "      <td>4.000000</td>\n",
              "      <td>1.000000</td>\n",
              "      <td>1.000000</td>\n",
              "      <td>0.000000</td>\n",
              "      <td>...</td>\n",
              "      <td>0.600000</td>\n",
              "      <td>-0.329167</td>\n",
              "      <td>-0.700000</td>\n",
              "      <td>-0.125000</td>\n",
              "      <td>0.000000</td>\n",
              "      <td>0.000000</td>\n",
              "      <td>0.166667</td>\n",
              "      <td>0.000000</td>\n",
              "      <td>948.000000</td>\n",
              "      <td>0.000000</td>\n",
              "    </tr>\n",
              "    <tr>\n",
              "      <th>50%</th>\n",
              "      <td>19931.000000</td>\n",
              "      <td>10.000000</td>\n",
              "      <td>409.000000</td>\n",
              "      <td>0.539683</td>\n",
              "      <td>1.000000</td>\n",
              "      <td>0.691228</td>\n",
              "      <td>7.000000</td>\n",
              "      <td>3.000000</td>\n",
              "      <td>1.000000</td>\n",
              "      <td>0.000000</td>\n",
              "      <td>...</td>\n",
              "      <td>0.800000</td>\n",
              "      <td>-0.253718</td>\n",
              "      <td>-0.500000</td>\n",
              "      <td>-0.100000</td>\n",
              "      <td>0.144444</td>\n",
              "      <td>0.000000</td>\n",
              "      <td>0.500000</td>\n",
              "      <td>0.000000</td>\n",
              "      <td>1400.000000</td>\n",
              "      <td>0.000000</td>\n",
              "    </tr>\n",
              "    <tr>\n",
              "      <th>75%</th>\n",
              "      <td>29780.250000</td>\n",
              "      <td>12.000000</td>\n",
              "      <td>715.750000</td>\n",
              "      <td>0.609865</td>\n",
              "      <td>1.000000</td>\n",
              "      <td>0.754545</td>\n",
              "      <td>14.000000</td>\n",
              "      <td>4.000000</td>\n",
              "      <td>4.000000</td>\n",
              "      <td>1.000000</td>\n",
              "      <td>...</td>\n",
              "      <td>1.000000</td>\n",
              "      <td>-0.187500</td>\n",
              "      <td>-0.300000</td>\n",
              "      <td>-0.050000</td>\n",
              "      <td>0.500000</td>\n",
              "      <td>0.138600</td>\n",
              "      <td>0.500000</td>\n",
              "      <td>0.250000</td>\n",
              "      <td>2800.000000</td>\n",
              "      <td>1.000000</td>\n",
              "    </tr>\n",
              "    <tr>\n",
              "      <th>max</th>\n",
              "      <td>39644.000000</td>\n",
              "      <td>19.000000</td>\n",
              "      <td>7413.000000</td>\n",
              "      <td>1.000000</td>\n",
              "      <td>1.000000</td>\n",
              "      <td>1.000000</td>\n",
              "      <td>186.000000</td>\n",
              "      <td>116.000000</td>\n",
              "      <td>108.000000</td>\n",
              "      <td>91.000000</td>\n",
              "      <td>...</td>\n",
              "      <td>1.000000</td>\n",
              "      <td>0.000000</td>\n",
              "      <td>0.000000</td>\n",
              "      <td>0.000000</td>\n",
              "      <td>1.000000</td>\n",
              "      <td>1.000000</td>\n",
              "      <td>0.500000</td>\n",
              "      <td>1.000000</td>\n",
              "      <td>843300.000000</td>\n",
              "      <td>1.000000</td>\n",
              "    </tr>\n",
              "  </tbody>\n",
              "</table>\n",
              "<p>8 rows × 47 columns</p>\n",
              "</div>"
            ],
            "text/plain": [
              "                 id  n_tokens_title  n_tokens_content  n_unique_tokens  \\\n",
              "count  22200.000000    20000.000000      20054.000000     19942.000000   \n",
              "mean   19856.270045       10.387150        543.920614         0.530611   \n",
              "std    11469.556277        2.105585        460.694982         0.138709   \n",
              "min        1.000000        3.000000          0.000000         0.000000   \n",
              "25%     9948.750000        9.000000        246.000000         0.471005   \n",
              "50%    19931.000000       10.000000        409.000000         0.539683   \n",
              "75%    29780.250000       12.000000        715.750000         0.609865   \n",
              "max    39644.000000       19.000000       7413.000000         1.000000   \n",
              "\n",
              "       n_non_stop_words  n_non_stop_unique_tokens     num_hrefs  \\\n",
              "count      20017.000000              19944.000000  19967.000000   \n",
              "mean           0.970175                  0.672893     10.840337   \n",
              "std            0.170108                  0.155004     11.024976   \n",
              "min            0.000000                  0.000000      0.000000   \n",
              "25%            1.000000                  0.626836      4.000000   \n",
              "50%            1.000000                  0.691228      7.000000   \n",
              "75%            1.000000                  0.754545     14.000000   \n",
              "max            1.000000                  1.000000    186.000000   \n",
              "\n",
              "       num_self_hrefs      num_imgs    num_videos  ...  max_positive_polarity  \\\n",
              "count    19920.000000  19986.000000  19906.000000  ...           20033.000000   \n",
              "mean         3.303263      4.473431      1.248669  ...               0.755952   \n",
              "std          3.944523      8.092647      4.087507  ...               0.248262   \n",
              "min          0.000000      0.000000      0.000000  ...               0.000000   \n",
              "25%          1.000000      1.000000      0.000000  ...               0.600000   \n",
              "50%          3.000000      1.000000      0.000000  ...               0.800000   \n",
              "75%          4.000000      4.000000      1.000000  ...               1.000000   \n",
              "max        116.000000    108.000000     91.000000  ...               1.000000   \n",
              "\n",
              "       avg_negative_polarity  min_negative_polarity  max_negative_polarity  \\\n",
              "count           19916.000000           19926.000000           19997.000000   \n",
              "mean               -0.259972              -0.523223              -0.107647   \n",
              "std                 0.127974               0.289365               0.096059   \n",
              "min                -1.000000              -1.000000              -1.000000   \n",
              "25%                -0.329167              -0.700000              -0.125000   \n",
              "50%                -0.253718              -0.500000              -0.100000   \n",
              "75%                -0.187500              -0.300000              -0.050000   \n",
              "max                 0.000000               0.000000               0.000000   \n",
              "\n",
              "       title_subjectivity  title_sentiment_polarity  abs_title_subjectivity  \\\n",
              "count        19928.000000              19967.000000            19934.000000   \n",
              "mean             0.284772                  0.070169                0.342966   \n",
              "std              0.327151                  0.264686                0.188498   \n",
              "min              0.000000                 -1.000000                0.000000   \n",
              "25%              0.000000                  0.000000                0.166667   \n",
              "50%              0.144444                  0.000000                0.500000   \n",
              "75%              0.500000                  0.138600                0.500000   \n",
              "max              1.000000                  1.000000                0.500000   \n",
              "\n",
              "       abs_title_sentiment_polarity         shares             y  \n",
              "count                  19951.000000   22200.000000  22200.000000  \n",
              "mean                       0.155305    3459.794865      0.495676  \n",
              "std                        0.225603   12767.254516      0.499993  \n",
              "min                        0.000000      22.000000      0.000000  \n",
              "25%                        0.000000     948.000000      0.000000  \n",
              "50%                        0.000000    1400.000000      0.000000  \n",
              "75%                        0.250000    2800.000000      1.000000  \n",
              "max                        1.000000  843300.000000      1.000000  \n",
              "\n",
              "[8 rows x 47 columns]"
            ]
          },
          "execution_count": 4,
          "metadata": {},
          "output_type": "execute_result"
        }
      ],
      "source": [
        "df.describe()"
      ]
    },
    {
      "cell_type": "markdown",
      "metadata": {
        "id": "33kMroj8iWBL"
      },
      "source": [
        "## 데이터 전처리"
      ]
    },
    {
      "cell_type": "code",
      "execution_count": 5,
      "metadata": {
        "colab": {
          "base_uri": "https://localhost:8080/",
          "height": 0
        },
        "id": "zj4FB982d5KW",
        "outputId": "ac39a3c6-4c49-4a74-9978-a75b15a152bf"
      },
      "outputs": [
        {
          "name": "stderr",
          "output_type": "stream",
          "text": [
            "/Users/sojeonglee/anaconda3/lib/python3.11/site-packages/seaborn/_oldcore.py:1119: FutureWarning: use_inf_as_na option is deprecated and will be removed in a future version. Convert inf values to NaN before operating instead.\n",
            "  with pd.option_context('mode.use_inf_as_na', True):\n"
          ]
        },
        {
          "data": {
            "text/plain": [
              "(0.0, 20000.0)"
            ]
          },
          "execution_count": 5,
          "metadata": {},
          "output_type": "execute_result"
        },
        {
          "data": {
            "image/png": "[encoded data removed]",
            "text/plain": [
              "<Figure size 640x480 with 1 Axes>"
            ]
          },
          "metadata": {},
          "output_type": "display_data"
        }
      ],
      "source": [
        "# 공유 수 분포 그래프\n",
        "sns.kdeplot(df['shares'])\n",
        "plt.xlim(0, 20000)"
      ]
    },
    {
      "cell_type": "code",
      "execution_count": 6,
      "metadata": {
        "colab": {
          "base_uri": "https://localhost:8080/"
        },
        "id": "QqKKwdFHjAXi",
        "outputId": "1d1c0b44-ee5f-4fe9-d4cb-962f8932a707"
      },
      "outputs": [
        {
          "name": "stdout",
          "output_type": "stream",
          "text": [
            "   quantile  count         mean           std       skew     kurtosis  min  \\\n",
            "0     1.000  22200  3459.794865  12767.254516  34.564296  1777.645277   22   \n",
            "1     0.998  22155  3075.768269   5730.182933   6.628787    59.428030   22   \n",
            "2     0.995  22090  2891.559439   4596.721530   5.102655    34.846652   22   \n",
            "3     0.990  21978  2694.451224   3655.563807   3.813214    18.020655   22   \n",
            "4     0.980  21760  2468.876333   2873.139893   3.020613    10.499472   22   \n",
            "5     0.975  21648  2384.638258   2629.522184   2.816273     8.936662   22   \n",
            "\n",
            "      max  \n",
            "0  843300  \n",
            "1   86200  \n",
            "2   53100  \n",
            "3   32100  \n",
            "4   20400  \n",
            "5   17300  \n"
          ]
        }
      ],
      "source": [
        "# 이상치 제거 비율에 따른 수치 통계\n",
        "\n",
        "from scipy.stats import skew, kurtosis\n",
        "\n",
        "quantiles = [1.0, 0.998, 0.995, 0.99, 0.98, 0.975]\n",
        "summary_list = []\n",
        "\n",
        "for q in quantiles:\n",
        "    threshold = df['shares'].quantile(q)\n",
        "    temp = df[df['shares'] <= threshold]['shares']\n",
        "\n",
        "    summary = {\n",
        "        'quantile': q,\n",
        "        'count': temp.count(),\n",
        "        'mean': temp.mean(),\n",
        "        'std': temp.std(),\n",
        "        'skew': skew(temp),\n",
        "        'kurtosis': kurtosis(temp),\n",
        "        'min': temp.min(),\n",
        "        'max': temp.max()\n",
        "    }\n",
        "\n",
        "    summary_list.append(summary)\n",
        "\n",
        "summary_df = pd.DataFrame(summary_list)\n",
        "print(summary_df)\n"
      ]
    },
    {
      "cell_type": "markdown",
      "metadata": {
        "id": "vFxQTgy4pFkB"
      },
      "source": [
        "quantile = 0.98 에서 mean, std, skew(첨도), kurtosis(왜도)의 급격한 변화가 관찰된다. 따라서 shares가 상위 2%에 해당하는 데이터를 이상치로 간주하고 제거한다."
      ]
    },
    {
      "cell_type": "code",
      "execution_count": 7,
      "metadata": {
        "colab": {
          "base_uri": "https://localhost:8080/",
          "height": 0
        },
        "id": "vntozkFTiTH7",
        "outputId": "d9c0d53f-8aea-4a56-9b14-42baa04132c5"
      },
      "outputs": [
        {
          "name": "stderr",
          "output_type": "stream",
          "text": [
            "/Users/sojeonglee/anaconda3/lib/python3.11/site-packages/seaborn/_oldcore.py:1119: FutureWarning: use_inf_as_na option is deprecated and will be removed in a future version. Convert inf values to NaN before operating instead.\n",
            "  with pd.option_context('mode.use_inf_as_na', True):\n"
          ]
        },
        {
          "data": {
            "text/plain": [
              "(0.0, 8500.0)"
            ]
          },
          "execution_count": 7,
          "metadata": {},
          "output_type": "execute_result"
        },
        {
          "data": {
            "image/png": "[encoded data removed]",
            "text/plain": [
              "<Figure size 640x480 with 1 Axes>"
            ]
          },
          "metadata": {},
          "output_type": "display_data"
        }
      ],
      "source": [
        "threshold = df['shares'].quantile(0.98)\n",
        "df = df[df['shares'] <= threshold]\n",
        "\n",
        "sns.kdeplot(df['shares'])\n",
        "plt.xlim(0, 8500)"
      ]
    },
    {
      "cell_type": "code",
      "execution_count": 8,
      "metadata": {
        "colab": {
          "base_uri": "https://localhost:8080/"
        },
        "id": "gHkQKgavkNCJ",
        "outputId": "101648ae-67d8-4d09-c9b2-cace42f478b3"
      },
      "outputs": [
        {
          "name": "stdout",
          "output_type": "stream",
          "text": [
            "kw_max_max: 68.35%\n",
            "num_videos: 56.65%\n",
            "kw_min_min: 51.76%\n",
            "y: 51.45%\n",
            "abs_title_subjectivity: 46.69%\n",
            "title_sentiment_polarity: 45.63%\n",
            "abs_title_sentiment_polarity: 45.57%\n",
            "num_imgs: 41.48%\n",
            "title_subjectivity: 40.89%\n",
            "kw_min_avg: 38.98%\n"
          ]
        }
      ],
      "source": [
        "# 가장 많이 등장한 값이 전체에서 차지하는 비율 top 10\n",
        "top_ratio_dict = {}\n",
        "\n",
        "for col in df.columns:\n",
        "    most_common = df[col].value_counts(dropna=False).iloc[0]\n",
        "    total = len(df)\n",
        "    ratio = most_common / total\n",
        "    top_ratio_dict[col] = ratio\n",
        "\n",
        "top_10 = sorted(top_ratio_dict.items(), key=lambda x: x[1], reverse=True)[:10]\n",
        "\n",
        "for col, ratio in top_10:\n",
        "    print(f\"{col}: {ratio:.2%}\")"
      ]
    },
    {
      "cell_type": "code",
      "execution_count": 9,
      "metadata": {
        "colab": {
          "base_uri": "https://localhost:8080/",
          "height": 0
        },
        "id": "85F6nFZTdqSs",
        "outputId": "b56fd463-2832-4082-e8c8-42a9c1721c62"
      },
      "outputs": [
        {
          "data": {
            "text/plain": [
              "kw_min_min\n",
              "-1.0      11263\n",
              " 4.0       5955\n",
              " 217.0     2323\n",
              " NaN       2167\n",
              " 0.0         34\n",
              "Name: count, dtype: int64"
            ]
          },
          "execution_count": 9,
          "metadata": {},
          "output_type": "execute_result"
        }
      ],
      "source": [
        "# 중복 값이 많은 변수들을 자세히 살펴보자\n",
        "df['kw_min_min'].value_counts(dropna=False).head(5)"
      ]
    },
    {
      "cell_type": "code",
      "execution_count": 10,
      "metadata": {
        "colab": {
          "base_uri": "https://localhost:8080/",
          "height": 0
        },
        "id": "JFtW_vG_hXz9",
        "outputId": "aa26b8b1-23ff-49c0-fb40-9a463c645061"
      },
      "outputs": [
        {
          "data": {
            "text/plain": [
              "kw_max_max\n",
              "843300.0    14873\n",
              "NaN          2193\n",
              "690400.0     1982\n",
              "617900.0     1115\n",
              "69100.0       645\n",
              "Name: count, dtype: int64"
            ]
          },
          "execution_count": 10,
          "metadata": {},
          "output_type": "execute_result"
        }
      ],
      "source": [
        "df['kw_max_max'].value_counts(dropna=False).head(5)"
      ]
    },
    {
      "cell_type": "code",
      "execution_count": 11,
      "metadata": {
        "colab": {
          "base_uri": "https://localhost:8080/",
          "height": 0
        },
        "id": "3DF7NpIRC_Ew",
        "outputId": "4273e16d-e3b1-437e-da21-65931adab5f5"
      },
      "outputs": [
        {
          "data": {
            "text/plain": [
              "n_non_stop_words_rounded\n",
              "1.0    19041\n",
              "NaN     2139\n",
              "0.0      580\n",
              "Name: count, dtype: int64"
            ]
          },
          "execution_count": 11,
          "metadata": {},
          "output_type": "execute_result"
        }
      ],
      "source": [
        "df['n_non_stop_words_rounded'] = df['n_non_stop_words'].round(3)  # 소수 셋째 자리까지 반올림\n",
        "df['n_non_stop_words_rounded'].value_counts(dropna=False)"
      ]
    },
    {
      "cell_type": "code",
      "execution_count": 12,
      "metadata": {
        "id": "DLkt5wPti0JR"
      },
      "outputs": [],
      "source": [
        "# 많은 값들이 같은 값을 가지므로 삭제한다\n",
        "df.drop(columns=['kw_min_min'], axis=1, inplace=True)\n",
        "df.drop(columns=['kw_max_max'], axis=1, inplace=True)\n",
        "df.drop(columns=['n_non_stop_words'], axis=1, inplace=True)\n",
        "df.drop(columns=['n_non_stop_words_rounded'], axis=1, inplace=True)"
      ]
    },
    {
      "cell_type": "code",
      "execution_count": 13,
      "metadata": {
        "id": "Wj3WyklGiQZx"
      },
      "outputs": [],
      "source": [
        "# 'id'는 각 샘플마다 고유한 값을 가진다. 학습에 사용할 값이 아니므로 삭제한다\n",
        "df.drop(columns=['id'], axis=1, inplace=True)"
      ]
    },
    {
      "cell_type": "code",
      "execution_count": 14,
      "metadata": {
        "id": "pedPBQ8UJHRy"
      },
      "outputs": [],
      "source": [
        "# # Scatter plot\n",
        "\n",
        "X = df.drop(columns=['shares', 'y'])\n",
        "X = X.select_dtypes(include=['number']) # 숫자형만 필터링\n",
        "y = df['shares']\n",
        "target = 'shares'\n",
        "\n",
        "# # 시각화\n",
        "# plt.figure(figsize=(18, 20))\n",
        "\n",
        "# for i, feature in enumerate(X.columns):\n",
        "#     plt.subplot(7, 6, i + 1)\n",
        "#     plt.tight_layout(pad=1.5)\n",
        "#     plt.scatter(X[feature], y, alpha=0.3)\n",
        "#     plt.xlabel(feature)\n",
        "#     plt.ylabel(target)\n",
        "\n",
        "# plt.tight_layout()\n",
        "# plt.show()"
      ]
    },
    {
      "cell_type": "code",
      "execution_count": 15,
      "metadata": {
        "id": "83FjC2XqsA5Z"
      },
      "outputs": [],
      "source": [
        "# winsorize\n",
        "from scipy.stats.mstats import winsorize\n",
        "feature_with_outliers = [\"n_tokens_content\", \"num_hrefs\", \"num_self_hrefs\", \"num_imgs\", \"num_videos\", \"kw_max_min\", \"kw_avg_min\", \"kw_max_avg\", \"kw_avg_avg\", \"self_reference_min_shares\", \"self_reference_max_shares\", \"self_reference_avg_sharess\", \"global_rate_positive_words\", \"global_rate_negative_words\", \"avg_positive_polarity\", \"min_positive_polarity\"]\n",
        "\n",
        "# Define the percentile thresholds for Winsorization\n",
        "lower_percentile = 0.0\n",
        "upper_percentile = 0.0002\n",
        "\n",
        "# Apply Winsorization to each input variable\n",
        "for feature in X.columns:\n",
        "    if feature in feature_with_outliers:\n",
        "      X[feature] = winsorize(X[feature], limits=(lower_percentile, upper_percentile))\n"
      ]
    },
    {
      "cell_type": "code",
      "execution_count": 16,
      "metadata": {
        "colab": {
          "base_uri": "https://localhost:8080/"
        },
        "id": "NXBSq6FHon0q",
        "outputId": "938c6bfa-a7ce-4bb5-ee56-fcf8a8028903"
      },
      "outputs": [
        {
          "name": "stdout",
          "output_type": "stream",
          "text": [
            "     weekday  avg_shares  max_shares  min_shares\n",
            "1     Monday     2384.82       20300          43\n",
            "5    Tuesday     2355.24       20400          42\n",
            "6  Wednesday     2354.53       20300          48\n",
            "4   Thursday     2357.35       20400          22\n",
            "0     Friday     2436.35       20400          28\n",
            "2   Saturday     3117.37       19800          49\n",
            "3     Sunday     3060.14       20000         171\n"
          ]
        }
      ],
      "source": [
        "# 요일별 shares의 평균, 최댓값, 최솟값\n",
        "weekday_stats = df.groupby('weekday')['shares'].agg(\n",
        "    avg_shares=lambda x: round(x.mean(), 2),\n",
        "    max_shares='max',\n",
        "    min_shares='min'\n",
        ").reset_index()\n",
        "\n",
        "weekday_order = ['Monday', 'Tuesday', 'Wednesday', 'Thursday', 'Friday', 'Saturday', 'Sunday']\n",
        "weekday_stats['weekday'] = pd.Categorical(weekday_stats['weekday'], categories=weekday_order, ordered=True)\n",
        "weekday_stats = weekday_stats.sort_values('weekday')\n",
        "print(weekday_stats)"
      ]
    },
    {
      "cell_type": "code",
      "execution_count": 17,
      "metadata": {
        "collapsed": true,
        "id": "4Ovs1FLlmKTK"
      },
      "outputs": [],
      "source": [
        "# 결측치 처리\n",
        "for col in df.columns:\n",
        "    if df[col].dtype == 'object': # 범주형 → 최빈값\n",
        "        df[col] = df[col].fillna(df[col].mode())\n",
        "    else: # 숫자형 → 중간값\n",
        "        df[col] = df[col].fillna(df[col].median())"
      ]
    },
    {
      "cell_type": "code",
      "execution_count": 18,
      "metadata": {
        "id": "hK7sdNBem84m"
      },
      "outputs": [],
      "source": [
        "# is_weekend 변수 추가\n",
        "df['is_weekend'] = df['weekday'].isin(['Saturday', 'Sunday']).astype(int)\n",
        "\n",
        "# 범주형 데이터 One-Hot Encoding\n",
        "df = pd.get_dummies(df, columns=['data_channel', 'weekday'], drop_first=True)"
      ]
    },
    {
      "cell_type": "markdown",
      "metadata": {
        "id": "OG0S9uBeSWIb"
      },
      "source": [
        "\n",
        "\n",
        "---\n",
        "\n"
      ]
    },
    {
      "cell_type": "markdown",
      "metadata": {
        "id": "h2nBLi4x6Hdu"
      },
      "source": [
        "# RandomForest_gscv_v0\n",
        "해주신 것:\n",
        "- shares 너무 높은 것 outlier로 판단해 삭제\n",
        "- winsorize\n",
        "- 겹치는 값이 많은 변수들 3개, id 삭제\n",
        "- is_weekend 추가\n",
        "- 결측치 채우기\n",
        "- categorical 변수들 one-hot encoding\n",
        "- 결과물은 df에 담겨 있음 <a/></a>\n",
        "\n",
        "해야 할 것:\n",
        "- train과 validation set 나누기\n",
        "- 정규화\n",
        "- classification 모델 선정\n",
        " - (패인 랩세션 4-1 참고) RandomForestclassifier 모델로 GridSearchCV를 해보자. (k-fold 활용)\n",
        " - GridSearchCV 내부에서 커스텀 평가지표 \"(Accuracy + F1 score + AUC) / 3\"을 사용하게끔 만들기"
      ]
    },
    {
      "cell_type": "markdown",
      "metadata": {
        "id": "1b59MIE-TzyT"
      },
      "source": [
        "## 전처리 (train, val 나누기) (정규화)"
      ]
    },
    {
      "cell_type": "code",
      "execution_count": 19,
      "metadata": {
        "colab": {
          "base_uri": "https://localhost:8080/"
        },
        "collapsed": true,
        "id": "78zzTyTEUk0l",
        "outputId": "d3811676-9814-4ee5-f6d9-45f46ecc12f2"
      },
      "outputs": [
        {
          "name": "stdout",
          "output_type": "stream",
          "text": [
            "<class 'pandas.core.frame.DataFrame'>\n",
            "Index: 21760 entries, 0 to 22199\n",
            "Data columns (total 55 columns):\n",
            " #   Column                        Non-Null Count  Dtype  \n",
            "---  ------                        --------------  -----  \n",
            " 0   n_tokens_title                21760 non-null  float64\n",
            " 1   n_tokens_content              21760 non-null  float64\n",
            " 2   n_unique_tokens               21760 non-null  float64\n",
            " 3   n_non_stop_unique_tokens      21760 non-null  float64\n",
            " 4   num_hrefs                     21760 non-null  float64\n",
            " 5   num_self_hrefs                21760 non-null  float64\n",
            " 6   num_imgs                      21760 non-null  float64\n",
            " 7   num_videos                    21760 non-null  float64\n",
            " 8   average_token_length          21760 non-null  float64\n",
            " 9   num_keywords                  21760 non-null  float64\n",
            " 10  kw_max_min                    21760 non-null  float64\n",
            " 11  kw_avg_min                    21760 non-null  float64\n",
            " 12  kw_min_max                    21760 non-null  float64\n",
            " 13  kw_avg_max                    21760 non-null  float64\n",
            " 14  kw_min_avg                    21760 non-null  float64\n",
            " 15  kw_max_avg                    21760 non-null  float64\n",
            " 16  kw_avg_avg                    21760 non-null  float64\n",
            " 17  self_reference_min_shares     21760 non-null  float64\n",
            " 18  self_reference_max_shares     21760 non-null  float64\n",
            " 19  self_reference_avg_sharess    21760 non-null  float64\n",
            " 20  LDA_00                        21760 non-null  float64\n",
            " 21  LDA_01                        21760 non-null  float64\n",
            " 22  LDA_02                        21760 non-null  float64\n",
            " 23  LDA_03                        21760 non-null  float64\n",
            " 24  LDA_04                        21760 non-null  float64\n",
            " 25  global_subjectivity           21760 non-null  float64\n",
            " 26  global_sentiment_polarity     21760 non-null  float64\n",
            " 27  global_rate_positive_words    21760 non-null  float64\n",
            " 28  global_rate_negative_words    21760 non-null  float64\n",
            " 29  rate_positive_words           21760 non-null  float64\n",
            " 30  rate_negative_words           21760 non-null  float64\n",
            " 31  avg_positive_polarity         21760 non-null  float64\n",
            " 32  min_positive_polarity         21760 non-null  float64\n",
            " 33  max_positive_polarity         21760 non-null  float64\n",
            " 34  avg_negative_polarity         21760 non-null  float64\n",
            " 35  min_negative_polarity         21760 non-null  float64\n",
            " 36  max_negative_polarity         21760 non-null  float64\n",
            " 37  title_subjectivity            21760 non-null  float64\n",
            " 38  title_sentiment_polarity      21760 non-null  float64\n",
            " 39  abs_title_subjectivity        21760 non-null  float64\n",
            " 40  abs_title_sentiment_polarity  21760 non-null  float64\n",
            " 41  shares                        21760 non-null  int64  \n",
            " 42  y                             21760 non-null  int64  \n",
            " 43  is_weekend                    21760 non-null  int64  \n",
            " 44  data_channel_Entertainment    21760 non-null  bool   \n",
            " 45  data_channel_Lifestyle        21760 non-null  bool   \n",
            " 46  data_channel_Social Media     21760 non-null  bool   \n",
            " 47  data_channel_Tech             21760 non-null  bool   \n",
            " 48  data_channel_World            21760 non-null  bool   \n",
            " 49  weekday_Monday                21760 non-null  bool   \n",
            " 50  weekday_Saturday              21760 non-null  bool   \n",
            " 51  weekday_Sunday                21760 non-null  bool   \n",
            " 52  weekday_Thursday              21760 non-null  bool   \n",
            " 53  weekday_Tuesday               21760 non-null  bool   \n",
            " 54  weekday_Wednesday             21760 non-null  bool   \n",
            "dtypes: bool(11), float64(41), int64(3)\n",
            "memory usage: 7.7 MB\n"
          ]
        }
      ],
      "source": [
        "df.info()"
      ]
    },
    {
      "cell_type": "code",
      "execution_count": 20,
      "metadata": {
        "colab": {
          "base_uri": "https://localhost:8080/"
        },
        "id": "KzdMa9D36HGM",
        "outputId": "d4f1e808-cce8-45f3-d296-88d999d8d3dc"
      },
      "outputs": [
        {
          "name": "stdout",
          "output_type": "stream",
          "text": [
            "(21760, 53)\n",
            "(21760,)\n",
            "(17408, 53)\n"
          ]
        }
      ],
      "source": [
        "from sklearn.model_selection import train_test_split\n",
        "\n",
        "# X, y 분리\n",
        "X = df.drop(columns=['shares', 'y'])\n",
        "y = df['y']\n",
        "print(X.shape);print(y.shape)\n",
        "\n",
        "# X_train, X_val, y_train, y_val 나누기\n",
        "X_train, X_val, y_train, y_val = train_test_split(X, y, train_size=0.8, random_state=42)\n",
        "print(X_train.shape)"
      ]
    },
    {
      "cell_type": "code",
      "execution_count": 21,
      "metadata": {
        "id": "y2Yshgz8Tnwu"
      },
      "outputs": [],
      "source": [
        "# 정규화\n",
        "from sklearn.preprocessing import StandardScaler\n",
        "\n",
        "scaler = StandardScaler()\n",
        "X_train_scaled = scaler.fit_transform(X_train)\n",
        "X_val_scaled = scaler.transform(X_val)"
      ]
    },
    {
      "cell_type": "code",
      "execution_count": 22,
      "metadata": {
        "colab": {
          "base_uri": "https://localhost:8080/"
        },
        "id": "zqhhFSTIsJRm",
        "outputId": "a5322595-dba8-4894-c780-66a42b331e05"
      },
      "outputs": [
        {
          "data": {
            "text/plain": [
              "array([[-0.67501388,  0.97718631, -0.11005713, ..., -0.44199332,\n",
              "        -0.45170708,  2.19149873],\n",
              "       [-0.17534804, -0.0723073 ,  0.02973369, ..., -0.44199332,\n",
              "        -0.45170708, -0.45630873],\n",
              "       [-0.67501388, -0.26708232,  0.03335424, ..., -0.44199332,\n",
              "         2.21382406, -0.45630873],\n",
              "       ...,\n",
              "       [-0.17534804, -0.56955646,  0.48911828, ..., -0.44199332,\n",
              "        -0.45170708, -0.45630873],\n",
              "       [ 2.32298119, -0.85828177,  0.77210477, ..., -0.44199332,\n",
              "        -0.45170708,  2.19149873],\n",
              "       [ 0.32431781, -0.54435028,  0.42473347, ...,  2.26247761,\n",
              "        -0.45170708, -0.45630873]])"
            ]
          },
          "execution_count": 22,
          "metadata": {},
          "output_type": "execute_result"
        }
      ],
      "source": [
        "X_train_scaled  # np.array 형태"
      ]
    },
    {
      "cell_type": "markdown",
      "metadata": {
        "id": "KDkvzUhocvcD"
      },
      "source": [
        "## 모델 학습시키기"
      ]
    },
    {
      "cell_type": "markdown",
      "metadata": {},
      "source": [
        "## random forest"
      ]
    },
    {
      "cell_type": "code",
      "execution_count": 23,
      "metadata": {},
      "outputs": [],
      "source": [
        "# 전처리가 완료된 후, 실제 모델 학습 부분\n",
        "# X, y 분리\n",
        "X = df.drop(columns=['shares', 'y'])\n",
        "y = df['y']\n",
        "\n",
        "# train/val 분리\n",
        "X_train, X_val, y_train, y_val = train_test_split(X, y, train_size=0.8, random_state=42)\n",
        "\n",
        "# 정규화\n",
        "scaler = StandardScaler()\n",
        "X_train_scaled = scaler.fit_transform(X_train)\n",
        "X_val_scaled = scaler.transform(X_val)\n",
        "\n",
        "# 커스텀 평가 지표 정의\n",
        "def my_scorer(estimator, X, y_true):\n",
        "    y_pred = estimator.predict(X)\n",
        "    y_proba = estimator.predict_proba(X)\n",
        "    \n",
        "    accuracy = accuracy_score(y_true, y_pred)\n",
        "    f1 = f1_score(y_true, y_pred)\n",
        "    roc_auc = roc_auc_score(y_true, y_proba[:, 1])\n",
        "    \n",
        "    result = (accuracy + f1 + roc_auc) / 3\n",
        "    return result\n",
        "\n",
        "# KFold 설정\n",
        "random_state = 42\n",
        "kf = KFold(n_splits=5, shuffle=True, random_state=random_state)"
      ]
    },
    {
      "cell_type": "code",
      "execution_count": 24,
      "metadata": {},
      "outputs": [
        {
          "name": "stdout",
          "output_type": "stream",
          "text": [
            "==================================================\n",
            "Random Forest 모델 학습 중...\n",
            "==================================================\n",
            "Fitting 5 folds for each of 12 candidates, totalling 60 fits\n",
            "Random Forest Best parameters: {'max_depth': 10, 'max_features': 'log2', 'n_estimators': 200}\n",
            "Random Forest Best CV score: 0.666832\n"
          ]
        }
      ],
      "source": [
        "# 1. Random Forest 모델\n",
        "print(\"=\" * 50)\n",
        "print(\"Random Forest 모델 학습 중...\")\n",
        "print(\"=\" * 50)\n",
        "\n",
        "rf_model = RandomForestClassifier(random_state=random_state, n_jobs=-1)\n",
        "\n",
        "rf_param_grid = {\n",
        "    \"n_estimators\": [100, 200],\n",
        "    \"max_features\": [\"sqrt\", \"log2\"],\n",
        "    \"max_depth\": [None, 10, 20]\n",
        "}\n",
        "\n",
        "rf_scoring = {\n",
        "    \"Accuracy\": make_scorer(accuracy_score), \n",
        "    \"F1 score\": make_scorer(f1_score), \n",
        "    \"AUC\": \"roc_auc\", \n",
        "    \"My score\": my_scorer\n",
        "}\n",
        "\n",
        "rf_grid = GridSearchCV(\n",
        "    rf_model, \n",
        "    rf_param_grid, \n",
        "    cv=kf, \n",
        "    scoring=rf_scoring, \n",
        "    refit=\"My score\", \n",
        "    verbose=1\n",
        ")\n",
        "\n",
        "rf_grid.fit(X_train_scaled, y_train)\n",
        "print(f\"Random Forest Best parameters: {rf_grid.best_params_}\")\n",
        "print(f\"Random Forest Best CV score: {rf_grid.best_score_:.6f}\")"
      ]
    },
    {
      "cell_type": "markdown",
      "metadata": {},
      "source": [
        "## xg boost"
      ]
    },
    {
      "cell_type": "code",
      "execution_count": 25,
      "metadata": {},
      "outputs": [
        {
          "name": "stdout",
          "output_type": "stream",
          "text": [
            "\n",
            "==================================================\n",
            "XGBoost 모델 학습 중...\n",
            "==================================================\n",
            "Fitting 5 folds for each of 24 candidates, totalling 120 fits\n",
            "XGBoost Best parameters: {'learning_rate': 0.1, 'max_depth': 3, 'n_estimators': 100, 'subsample': 0.8}\n",
            "XGBoost Best CV score: 0.667221\n"
          ]
        }
      ],
      "source": [
        "print(\"\\n\" + \"=\" * 50)\n",
        "print(\"XGBoost 모델 학습 중...\")\n",
        "print(\"=\" * 50)\n",
        "\n",
        "xgb_model = xgb.XGBClassifier(\n",
        "    random_state=random_state,\n",
        "    use_label_encoder=False,\n",
        "    eval_metric='logloss',\n",
        "    n_jobs=-1\n",
        ")\n",
        "\n",
        "xgb_param_grid = {\n",
        "    \"n_estimators\": [100, 200],\n",
        "    \"max_depth\": [3, 6, 9],\n",
        "    \"learning_rate\": [0.1, 0.3],\n",
        "    \"subsample\": [0.8, 1.0]\n",
        "}\n",
        "\n",
        "xgb_scoring = {\n",
        "    \"Accuracy\": make_scorer(accuracy_score), \n",
        "    \"F1 score\": make_scorer(f1_score), \n",
        "    \"AUC\": \"roc_auc\", \n",
        "    \"My score\": my_scorer\n",
        "}\n",
        "\n",
        "xgb_grid = GridSearchCV(\n",
        "    xgb_model, \n",
        "    xgb_param_grid, \n",
        "    cv=kf, \n",
        "    scoring=xgb_scoring, \n",
        "    refit=\"My score\", \n",
        "    verbose=1\n",
        ")\n",
        "\n",
        "xgb_grid.fit(X_train_scaled, y_train)\n",
        "print(f\"XGBoost Best parameters: {xgb_grid.best_params_}\")\n",
        "print(f\"XGBoost Best CV score: {xgb_grid.best_score_:.6f}\")\n"
      ]
    },
    {
      "cell_type": "markdown",
      "metadata": {},
      "source": [
        "## light gbm"
      ]
    },
    {
      "cell_type": "code",
      "execution_count": 26,
      "metadata": {},
      "outputs": [
        {
          "name": "stdout",
          "output_type": "stream",
          "text": [
            "\n",
            "==================================================\n",
            "LightGBM 모델 학습 중...\n",
            "==================================================\n",
            "Fitting 5 folds for each of 24 candidates, totalling 120 fits\n",
            "LightGBM Best parameters: {'learning_rate': 0.1, 'max_depth': 5, 'n_estimators': 100, 'num_leaves': 127}\n",
            "LightGBM Best CV score: 0.663663\n"
          ]
        }
      ],
      "source": [
        "print(\"\\n\" + \"=\" * 50)\n",
        "print(\"LightGBM 모델 학습 중...\")\n",
        "print(\"=\" * 50)\n",
        "\n",
        "lgb_model = lgb.LGBMClassifier(\n",
        "    random_state=random_state,\n",
        "    verbose=-1,\n",
        "    n_jobs=-1\n",
        ")\n",
        "\n",
        "lgb_param_grid = {\n",
        "    \"n_estimators\": [100, 200],\n",
        "    \"max_depth\": [5, 10, -1],\n",
        "    \"learning_rate\": [0.1, 0.3],\n",
        "    \"num_leaves\": [31, 127]\n",
        "}\n",
        "\n",
        "lgb_scoring = {\n",
        "    \"Accuracy\": make_scorer(accuracy_score), \n",
        "    \"F1 score\": make_scorer(f1_score), \n",
        "    \"AUC\": \"roc_auc\", \n",
        "    \"My score\": my_scorer\n",
        "}\n",
        "\n",
        "lgb_grid = GridSearchCV(\n",
        "    lgb_model, \n",
        "    lgb_param_grid, \n",
        "    cv=kf, \n",
        "    scoring=lgb_scoring, \n",
        "    refit=\"My score\", \n",
        "    verbose=1\n",
        ")\n",
        "\n",
        "lgb_grid.fit(X_train_scaled, y_train)\n",
        "print(f\"LightGBM Best parameters: {lgb_grid.best_params_}\")\n",
        "print(f\"LightGBM Best CV score: {lgb_grid.best_score_:.6f}\")"
      ]
    },
    {
      "cell_type": "markdown",
      "metadata": {},
      "source": [
        "# 성능 비교"
      ]
    },
    {
      "cell_type": "code",
      "execution_count": 27,
      "metadata": {},
      "outputs": [
        {
          "name": "stdout",
          "output_type": "stream",
          "text": [
            "\n",
            "==================================================\n",
            "모든 모델 성능 비교\n",
            "==================================================\n",
            "        Model  Accuracy  F1 Score      AUC  Average Score\n",
            "Random Forest  0.653263  0.635595 0.719163       0.669340\n",
            "      XGBoost  0.654871  0.636672 0.716703       0.669415\n",
            "     LightGBM  0.657169  0.639090 0.720760       0.672340\n"
          ]
        }
      ],
      "source": [
        "print(\"\\n\" + \"=\" * 50)\n",
        "print(\"모든 모델 성능 비교\")\n",
        "print(\"=\" * 50)\n",
        "\n",
        "models = {\n",
        "    \"Random Forest\": rf_grid,\n",
        "    \"XGBoost\": xgb_grid,\n",
        "    \"LightGBM\": lgb_grid\n",
        "}\n",
        "\n",
        "results = []\n",
        "for name, model in models.items():\n",
        "    y_pred = model.predict(X_val_scaled)\n",
        "    y_pred_proba = model.predict_proba(X_val_scaled)[:, 1]\n",
        "    \n",
        "    accuracy = accuracy_score(y_val, y_pred)\n",
        "    f1 = f1_score(y_val, y_pred)\n",
        "    auc = roc_auc_score(y_val, y_pred_proba)\n",
        "    avg_score = (accuracy + f1 + auc) / 3\n",
        "    \n",
        "    results.append({\n",
        "        \"Model\": name,\n",
        "        \"Accuracy\": accuracy,\n",
        "        \"F1 Score\": f1,\n",
        "        \"AUC\": auc,\n",
        "        \"Average Score\": avg_score\n",
        "    })\n",
        "\n",
        "# 결과를 DataFrame으로 출력\n",
        "results_df = pd.DataFrame(results)\n",
        "print(results_df.to_string(index=False))"
      ]
    },
    {
      "cell_type": "code",
      "execution_count": 28,
      "metadata": {},
      "outputs": [
        {
          "data": {
            "image/png": "[encoded data removed]",
            "text/plain": [
              "<Figure size 1000x600 with 1 Axes>"
            ]
          },
          "metadata": {},
          "output_type": "display_data"
        }
      ],
      "source": [
        "fig, ax = plt.subplots(1, 1, figsize=(10, 6))\n",
        "metrics = [\"Accuracy\", \"F1 Score\", \"AUC\", \"Average Score\"]\n",
        "x = np.arange(len(models))\n",
        "width = 0.2\n",
        "\n",
        "for i, metric in enumerate(metrics):\n",
        "    offset = (i - 1.5) * width\n",
        "    bars = ax.bar(x + offset, results_df[metric], width, label=metric)\n",
        "    \n",
        "    # 값 표시\n",
        "    for bar in bars:\n",
        "        height = bar.get_height()\n",
        "        ax.annotate(f'{height:.3f}',\n",
        "                    xy=(bar.get_x() + bar.get_width() / 2, height),\n",
        "                    xytext=(0, 3),  # 3 points vertical offset\n",
        "                    textcoords=\"offset points\",\n",
        "                    ha='center', va='bottom', fontsize=8)\n",
        "\n",
        "ax.set_ylabel('Score')\n",
        "ax.set_title('Model Performance Comparison')\n",
        "ax.set_xticks(x)\n",
        "ax.set_xticklabels(results_df[\"Model\"])\n",
        "ax.legend()\n",
        "ax.grid(True, alpha=0.3)\n",
        "\n",
        "plt.tight_layout()\n",
        "plt.show()\n"
      ]
    },
    {
      "cell_type": "markdown",
      "metadata": {},
      "source": [
        "# best model ?"
      ]
    },
    {
      "cell_type": "code",
      "execution_count": 29,
      "metadata": {},
      "outputs": [
        {
          "name": "stdout",
          "output_type": "stream",
          "text": [
            "\n",
            "최고 성능 모델: LightGBM\n",
            "최고 Average Score: 0.672340\n"
          ]
        },
        {
          "data": {
            "image/png": "[encoded data removed]",
            "text/plain": [
              "<Figure size 1000x1500 with 3 Axes>"
            ]
          },
          "metadata": {},
          "output_type": "display_data"
        }
      ],
      "source": [
        "best_model_name = results_df.loc[results_df[\"Average Score\"].idxmax(), \"Model\"]\n",
        "best_score = results_df[\"Average Score\"].max()\n",
        "\n",
        "print(f\"\\n최고 성능 모델: {best_model_name}\")\n",
        "print(f\"최고 Average Score: {best_score:.6f}\")\n",
        "\n",
        "# 특성 중요도 시각화 (모든 모델에 대해)\n",
        "fig, axes = plt.subplots(3, 1, figsize=(10, 15))\n",
        "feature_names = X.columns\n",
        "\n",
        "for idx, (name, model) in enumerate(models.items()):\n",
        "    if hasattr(model.best_estimator_, 'feature_importances_'):\n",
        "        importances = model.best_estimator_.feature_importances_\n",
        "        indices = np.argsort(importances)[::-1][:15]  # 상위 15개 특성\n",
        "        \n",
        "        axes[idx].bar(range(len(indices)), importances[indices])\n",
        "        axes[idx].set_xticks(range(len(indices)))\n",
        "        axes[idx].set_xticklabels([feature_names[i] for i in indices], rotation=45, ha='right')\n",
        "        axes[idx].set_title(f'{name} - Feature Importance (Top 15)')\n",
        "        axes[idx].set_ylabel('Importance')\n",
        "\n",
        "plt.tight_layout()\n",
        "plt.show()"
      ]
    },
    {
      "cell_type": "markdown",
      "metadata": {},
      "source": [
        "# ensemble\n",
        "## hard voting"
      ]
    },
    {
      "cell_type": "code",
      "execution_count": 30,
      "metadata": {},
      "outputs": [
        {
          "name": "stdout",
          "output_type": "stream",
          "text": [
            "\n",
            "==================================================\n",
            "Voting Classifier (Hard Voting) 학습 중...\n",
            "==================================================\n"
          ]
        },
        {
          "data": {
            "text/html": [
              "<style>#sk-container-id-1 {color: black;background-color: white;}#sk-container-id-1 pre{padding: 0;}#sk-container-id-1 div.sk-toggleable {background-color: white;}#sk-container-id-1 label.sk-toggleable__label {cursor: pointer;display: block;width: 100%;margin-bottom: 0;padding: 0.3em;box-sizing: border-box;text-align: center;}#sk-container-id-1 label.sk-toggleable__label-arrow:before {content: \"▸\";float: left;margin-right: 0.25em;color: #696969;}#sk-container-id-1 label.sk-toggleable__label-arrow:hover:before {color: black;}#sk-container-id-1 div.sk-estimator:hover label.sk-toggleable__label-arrow:before {color: black;}#sk-container-id-1 div.sk-toggleable__content {max-height: 0;max-width: 0;overflow: hidden;text-align: left;background-color: #f0f8ff;}#sk-container-id-1 div.sk-toggleable__content pre {margin: 0.2em;color: black;border-radius: 0.25em;background-color: #f0f8ff;}#sk-container-id-1 input.sk-toggleable__control:checked~div.sk-toggleable__content {max-height: 200px;max-width: 100%;overflow: auto;}#sk-container-id-1 input.sk-toggleable__control:checked~label.sk-toggleable__label-arrow:before {content: \"▾\";}#sk-container-id-1 div.sk-estimator input.sk-toggleable__control:checked~label.sk-toggleable__label {background-color: #d4ebff;}#sk-container-id-1 div.sk-label input.sk-toggleable__control:checked~label.sk-toggleable__label {background-color: #d4ebff;}#sk-container-id-1 input.sk-hidden--visually {border: 0;clip: rect(1px 1px 1px 1px);clip: rect(1px, 1px, 1px, 1px);height: 1px;margin: -1px;overflow: hidden;padding: 0;position: absolute;width: 1px;}#sk-container-id-1 div.sk-estimator {font-family: monospace;background-color: #f0f8ff;border: 1px dotted black;border-radius: 0.25em;box-sizing: border-box;margin-bottom: 0.5em;}#sk-container-id-1 div.sk-estimator:hover {background-color: #d4ebff;}#sk-container-id-1 div.sk-parallel-item::after {content: \"\";width: 100%;border-bottom: 1px solid gray;flex-grow: 1;}#sk-container-id-1 div.sk-label:hover label.sk-toggleable__label {background-color: #d4ebff;}#sk-container-id-1 div.sk-serial::before {content: \"\";position: absolute;border-left: 1px solid gray;box-sizing: border-box;top: 0;bottom: 0;left: 50%;z-index: 0;}#sk-container-id-1 div.sk-serial {display: flex;flex-direction: column;align-items: center;background-color: white;padding-right: 0.2em;padding-left: 0.2em;position: relative;}#sk-container-id-1 div.sk-item {position: relative;z-index: 1;}#sk-container-id-1 div.sk-parallel {display: flex;align-items: stretch;justify-content: center;background-color: white;position: relative;}#sk-container-id-1 div.sk-item::before, #sk-container-id-1 div.sk-parallel-item::before {content: \"\";position: absolute;border-left: 1px solid gray;box-sizing: border-box;top: 0;bottom: 0;left: 50%;z-index: -1;}#sk-container-id-1 div.sk-parallel-item {display: flex;flex-direction: column;z-index: 1;position: relative;background-color: white;}#sk-container-id-1 div.sk-parallel-item:first-child::after {align-self: flex-end;width: 50%;}#sk-container-id-1 div.sk-parallel-item:last-child::after {align-self: flex-start;width: 50%;}#sk-container-id-1 div.sk-parallel-item:only-child::after {width: 0;}#sk-container-id-1 div.sk-dashed-wrapped {border: 1px dashed gray;margin: 0 0.4em 0.5em 0.4em;box-sizing: border-box;padding-bottom: 0.4em;background-color: white;}#sk-container-id-1 div.sk-label label {font-family: monospace;font-weight: bold;display: inline-block;line-height: 1.2em;}#sk-container-id-1 div.sk-label-container {text-align: center;}#sk-container-id-1 div.sk-container {/* jupyter's `normalize.less` sets `[hidden] { display: none; }` but bootstrap.min.css set `[hidden] { display: none !important; }` so we also need the `!important` here to be able to override the default hidden behavior on the sphinx rendered scikit-learn.org. See: https://github.com/scikit-learn/scikit-learn/issues/21755 */display: inline-block !important;position: relative;}#sk-container-id-1 div.sk-text-repr-fallback {display: none;}</style><div id=\"sk-container-id-1\" class=\"sk-top-container\"><div class=\"sk-text-repr-fallback\"><pre>VotingClassifier(estimators=[(&#x27;rf&#x27;,\n",
              "                              RandomForestClassifier(max_depth=10,\n",
              "                                                     max_features=&#x27;log2&#x27;,\n",
              "                                                     n_estimators=200,\n",
              "                                                     n_jobs=-1,\n",
              "                                                     random_state=42)),\n",
              "                             (&#x27;xgb&#x27;,\n",
              "                              XGBClassifier(base_score=None, booster=None,\n",
              "                                            callbacks=None,\n",
              "                                            colsample_bylevel=None,\n",
              "                                            colsample_bynode=None,\n",
              "                                            colsample_bytree=None, device=None,\n",
              "                                            early_stopping_rounds=None,\n",
              "                                            enable_categorical=False,\n",
              "                                            eval_metric=&#x27;loglo...\n",
              "                                            learning_rate=0.1, max_bin=None,\n",
              "                                            max_cat_threshold=None,\n",
              "                                            max_cat_to_onehot=None,\n",
              "                                            max_delta_step=None, max_depth=3,\n",
              "                                            max_leaves=None,\n",
              "                                            min_child_weight=None, missing=nan,\n",
              "                                            monotone_constraints=None,\n",
              "                                            multi_strategy=None,\n",
              "                                            n_estimators=100, n_jobs=-1,\n",
              "                                            num_parallel_tree=None,\n",
              "                                            random_state=42, ...)),\n",
              "                             (&#x27;lgb&#x27;,\n",
              "                              LGBMClassifier(max_depth=5, n_jobs=-1,\n",
              "                                             num_leaves=127, random_state=42,\n",
              "                                             verbose=-1))])</pre><b>In a Jupyter environment, please rerun this cell to show the HTML representation or trust the notebook. <br />On GitHub, the HTML representation is unable to render, please try loading this page with nbviewer.org.</b></div><div class=\"sk-container\" hidden><div class=\"sk-item sk-dashed-wrapped\"><div class=\"sk-label-container\"><div class=\"sk-label sk-toggleable\"><input class=\"sk-toggleable__control sk-hidden--visually\" id=\"sk-estimator-id-1\" type=\"checkbox\" ><label for=\"sk-estimator-id-1\" class=\"sk-toggleable__label sk-toggleable__label-arrow\">VotingClassifier</label><div class=\"sk-toggleable__content\"><pre>VotingClassifier(estimators=[(&#x27;rf&#x27;,\n",
              "                              RandomForestClassifier(max_depth=10,\n",
              "                                                     max_features=&#x27;log2&#x27;,\n",
              "                                                     n_estimators=200,\n",
              "                                                     n_jobs=-1,\n",
              "                                                     random_state=42)),\n",
              "                             (&#x27;xgb&#x27;,\n",
              "                              XGBClassifier(base_score=None, booster=None,\n",
              "                                            callbacks=None,\n",
              "                                            colsample_bylevel=None,\n",
              "                                            colsample_bynode=None,\n",
              "                                            colsample_bytree=None, device=None,\n",
              "                                            early_stopping_rounds=None,\n",
              "                                            enable_categorical=False,\n",
              "                                            eval_metric=&#x27;loglo...\n",
              "                                            learning_rate=0.1, max_bin=None,\n",
              "                                            max_cat_threshold=None,\n",
              "                                            max_cat_to_onehot=None,\n",
              "                                            max_delta_step=None, max_depth=3,\n",
              "                                            max_leaves=None,\n",
              "                                            min_child_weight=None, missing=nan,\n",
              "                                            monotone_constraints=None,\n",
              "                                            multi_strategy=None,\n",
              "                                            n_estimators=100, n_jobs=-1,\n",
              "                                            num_parallel_tree=None,\n",
              "                                            random_state=42, ...)),\n",
              "                             (&#x27;lgb&#x27;,\n",
              "                              LGBMClassifier(max_depth=5, n_jobs=-1,\n",
              "                                             num_leaves=127, random_state=42,\n",
              "                                             verbose=-1))])</pre></div></div></div><div class=\"sk-parallel\"><div class=\"sk-parallel-item\"><div class=\"sk-item\"><div class=\"sk-label-container\"><div class=\"sk-label sk-toggleable\"><label>rf</label></div></div><div class=\"sk-serial\"><div class=\"sk-item\"><div class=\"sk-estimator sk-toggleable\"><input class=\"sk-toggleable__control sk-hidden--visually\" id=\"sk-estimator-id-2\" type=\"checkbox\" ><label for=\"sk-estimator-id-2\" class=\"sk-toggleable__label sk-toggleable__label-arrow\">RandomForestClassifier</label><div class=\"sk-toggleable__content\"><pre>RandomForestClassifier(max_depth=10, max_features=&#x27;log2&#x27;, n_estimators=200,\n",
              "                       n_jobs=-1, random_state=42)</pre></div></div></div></div></div></div><div class=\"sk-parallel-item\"><div class=\"sk-item\"><div class=\"sk-label-container\"><div class=\"sk-label sk-toggleable\"><label>xgb</label></div></div><div class=\"sk-serial\"><div class=\"sk-item\"><div class=\"sk-estimator sk-toggleable\"><input class=\"sk-toggleable__control sk-hidden--visually\" id=\"sk-estimator-id-3\" type=\"checkbox\" ><label for=\"sk-estimator-id-3\" class=\"sk-toggleable__label sk-toggleable__label-arrow\">XGBClassifier</label><div class=\"sk-toggleable__content\"><pre>XGBClassifier(base_score=None, booster=None, callbacks=None,\n",
              "              colsample_bylevel=None, colsample_bynode=None,\n",
              "              colsample_bytree=None, device=None, early_stopping_rounds=None,\n",
              "              enable_categorical=False, eval_metric=&#x27;logloss&#x27;,\n",
              "              feature_types=None, gamma=None, grow_policy=None,\n",
              "              importance_type=None, interaction_constraints=None,\n",
              "              learning_rate=0.1, max_bin=None, max_cat_threshold=None,\n",
              "              max_cat_to_onehot=None, max_delta_step=None, max_depth=3,\n",
              "              max_leaves=None, min_child_weight=None, missing=nan,\n",
              "              monotone_constraints=None, multi_strategy=None, n_estimators=100,\n",
              "              n_jobs=-1, num_parallel_tree=None, random_state=42, ...)</pre></div></div></div></div></div></div><div class=\"sk-parallel-item\"><div class=\"sk-item\"><div class=\"sk-label-container\"><div class=\"sk-label sk-toggleable\"><label>lgb</label></div></div><div class=\"sk-serial\"><div class=\"sk-item\"><div class=\"sk-estimator sk-toggleable\"><input class=\"sk-toggleable__control sk-hidden--visually\" id=\"sk-estimator-id-4\" type=\"checkbox\" ><label for=\"sk-estimator-id-4\" class=\"sk-toggleable__label sk-toggleable__label-arrow\">LGBMClassifier</label><div class=\"sk-toggleable__content\"><pre>LGBMClassifier(max_depth=5, n_jobs=-1, num_leaves=127, random_state=42,\n",
              "               verbose=-1)</pre></div></div></div></div></div></div></div></div></div></div>"
            ],
            "text/plain": [
              "VotingClassifier(estimators=[('rf',\n",
              "                              RandomForestClassifier(max_depth=10,\n",
              "                                                     max_features='log2',\n",
              "                                                     n_estimators=200,\n",
              "                                                     n_jobs=-1,\n",
              "                                                     random_state=42)),\n",
              "                             ('xgb',\n",
              "                              XGBClassifier(base_score=None, booster=None,\n",
              "                                            callbacks=None,\n",
              "                                            colsample_bylevel=None,\n",
              "                                            colsample_bynode=None,\n",
              "                                            colsample_bytree=None, device=None,\n",
              "                                            early_stopping_rounds=None,\n",
              "                                            enable_categorical=False,\n",
              "                                            eval_metric='loglo...\n",
              "                                            learning_rate=0.1, max_bin=None,\n",
              "                                            max_cat_threshold=None,\n",
              "                                            max_cat_to_onehot=None,\n",
              "                                            max_delta_step=None, max_depth=3,\n",
              "                                            max_leaves=None,\n",
              "                                            min_child_weight=None, missing=nan,\n",
              "                                            monotone_constraints=None,\n",
              "                                            multi_strategy=None,\n",
              "                                            n_estimators=100, n_jobs=-1,\n",
              "                                            num_parallel_tree=None,\n",
              "                                            random_state=42, ...)),\n",
              "                             ('lgb',\n",
              "                              LGBMClassifier(max_depth=5, n_jobs=-1,\n",
              "                                             num_leaves=127, random_state=42,\n",
              "                                             verbose=-1))])"
            ]
          },
          "execution_count": 30,
          "metadata": {},
          "output_type": "execute_result"
        }
      ],
      "source": [
        "from sklearn.ensemble import VotingClassifier, StackingClassifier\n",
        "from sklearn.linear_model import LogisticRegression\n",
        "import numpy as np\n",
        "\n",
        "# 1. Voting Classifier (Hard Voting)\n",
        "print(\"\\n\" + \"=\" * 50)\n",
        "print(\"Voting Classifier (Hard Voting) 학습 중...\")\n",
        "print(\"=\" * 50)\n",
        "\n",
        "# 최적 파라미터로 각 모델 생성\n",
        "rf_final = RandomForestClassifier(**rf_grid.best_params_, random_state=42, n_jobs=-1)\n",
        "xgb_final = xgb.XGBClassifier(**xgb_grid.best_params_, random_state=42, use_label_encoder=False, eval_metric='logloss', n_jobs=-1)\n",
        "lgb_final = lgb.LGBMClassifier(**lgb_grid.best_params_, random_state=42, verbose=-1, n_jobs=-1)\n",
        "\n",
        "# Hard Voting\n",
        "hard_voting_clf = VotingClassifier(\n",
        "    estimators=[\n",
        "        ('rf', rf_final),\n",
        "        ('xgb', xgb_final),\n",
        "        ('lgb', lgb_final)\n",
        "    ],\n",
        "    voting='hard'\n",
        ")\n",
        "\n",
        "hard_voting_clf.fit(X_train_scaled, y_train)"
      ]
    },
    {
      "cell_type": "markdown",
      "metadata": {},
      "source": [
        "## soft voting"
      ]
    },
    {
      "cell_type": "code",
      "execution_count": 31,
      "metadata": {},
      "outputs": [
        {
          "name": "stdout",
          "output_type": "stream",
          "text": [
            "\n",
            "==================================================\n",
            "Voting Classifier (Soft Voting) 학습 중...\n",
            "==================================================\n"
          ]
        },
        {
          "data": {
            "text/html": [
              "<style>#sk-container-id-2 {color: black;background-color: white;}#sk-container-id-2 pre{padding: 0;}#sk-container-id-2 div.sk-toggleable {background-color: white;}#sk-container-id-2 label.sk-toggleable__label {cursor: pointer;display: block;width: 100%;margin-bottom: 0;padding: 0.3em;box-sizing: border-box;text-align: center;}#sk-container-id-2 label.sk-toggleable__label-arrow:before {content: \"▸\";float: left;margin-right: 0.25em;color: #696969;}#sk-container-id-2 label.sk-toggleable__label-arrow:hover:before {color: black;}#sk-container-id-2 div.sk-estimator:hover label.sk-toggleable__label-arrow:before {color: black;}#sk-container-id-2 div.sk-toggleable__content {max-height: 0;max-width: 0;overflow: hidden;text-align: left;background-color: #f0f8ff;}#sk-container-id-2 div.sk-toggleable__content pre {margin: 0.2em;color: black;border-radius: 0.25em;background-color: #f0f8ff;}#sk-container-id-2 input.sk-toggleable__control:checked~div.sk-toggleable__content {max-height: 200px;max-width: 100%;overflow: auto;}#sk-container-id-2 input.sk-toggleable__control:checked~label.sk-toggleable__label-arrow:before {content: \"▾\";}#sk-container-id-2 div.sk-estimator input.sk-toggleable__control:checked~label.sk-toggleable__label {background-color: #d4ebff;}#sk-container-id-2 div.sk-label input.sk-toggleable__control:checked~label.sk-toggleable__label {background-color: #d4ebff;}#sk-container-id-2 input.sk-hidden--visually {border: 0;clip: rect(1px 1px 1px 1px);clip: rect(1px, 1px, 1px, 1px);height: 1px;margin: -1px;overflow: hidden;padding: 0;position: absolute;width: 1px;}#sk-container-id-2 div.sk-estimator {font-family: monospace;background-color: #f0f8ff;border: 1px dotted black;border-radius: 0.25em;box-sizing: border-box;margin-bottom: 0.5em;}#sk-container-id-2 div.sk-estimator:hover {background-color: #d4ebff;}#sk-container-id-2 div.sk-parallel-item::after {content: \"\";width: 100%;border-bottom: 1px solid gray;flex-grow: 1;}#sk-container-id-2 div.sk-label:hover label.sk-toggleable__label {background-color: #d4ebff;}#sk-container-id-2 div.sk-serial::before {content: \"\";position: absolute;border-left: 1px solid gray;box-sizing: border-box;top: 0;bottom: 0;left: 50%;z-index: 0;}#sk-container-id-2 div.sk-serial {display: flex;flex-direction: column;align-items: center;background-color: white;padding-right: 0.2em;padding-left: 0.2em;position: relative;}#sk-container-id-2 div.sk-item {position: relative;z-index: 1;}#sk-container-id-2 div.sk-parallel {display: flex;align-items: stretch;justify-content: center;background-color: white;position: relative;}#sk-container-id-2 div.sk-item::before, #sk-container-id-2 div.sk-parallel-item::before {content: \"\";position: absolute;border-left: 1px solid gray;box-sizing: border-box;top: 0;bottom: 0;left: 50%;z-index: -1;}#sk-container-id-2 div.sk-parallel-item {display: flex;flex-direction: column;z-index: 1;position: relative;background-color: white;}#sk-container-id-2 div.sk-parallel-item:first-child::after {align-self: flex-end;width: 50%;}#sk-container-id-2 div.sk-parallel-item:last-child::after {align-self: flex-start;width: 50%;}#sk-container-id-2 div.sk-parallel-item:only-child::after {width: 0;}#sk-container-id-2 div.sk-dashed-wrapped {border: 1px dashed gray;margin: 0 0.4em 0.5em 0.4em;box-sizing: border-box;padding-bottom: 0.4em;background-color: white;}#sk-container-id-2 div.sk-label label {font-family: monospace;font-weight: bold;display: inline-block;line-height: 1.2em;}#sk-container-id-2 div.sk-label-container {text-align: center;}#sk-container-id-2 div.sk-container {/* jupyter's `normalize.less` sets `[hidden] { display: none; }` but bootstrap.min.css set `[hidden] { display: none !important; }` so we also need the `!important` here to be able to override the default hidden behavior on the sphinx rendered scikit-learn.org. See: https://github.com/scikit-learn/scikit-learn/issues/21755 */display: inline-block !important;position: relative;}#sk-container-id-2 div.sk-text-repr-fallback {display: none;}</style><div id=\"sk-container-id-2\" class=\"sk-top-container\"><div class=\"sk-text-repr-fallback\"><pre>VotingClassifier(estimators=[(&#x27;rf&#x27;,\n",
              "                              RandomForestClassifier(max_depth=10,\n",
              "                                                     max_features=&#x27;log2&#x27;,\n",
              "                                                     n_estimators=200,\n",
              "                                                     n_jobs=-1,\n",
              "                                                     random_state=42)),\n",
              "                             (&#x27;xgb&#x27;,\n",
              "                              XGBClassifier(base_score=None, booster=None,\n",
              "                                            callbacks=None,\n",
              "                                            colsample_bylevel=None,\n",
              "                                            colsample_bynode=None,\n",
              "                                            colsample_bytree=None, device=None,\n",
              "                                            early_stopping_rounds=None,\n",
              "                                            enable_categorical=False,\n",
              "                                            eval_metric=&#x27;loglo...\n",
              "                                            learning_rate=0.1, max_bin=None,\n",
              "                                            max_cat_threshold=None,\n",
              "                                            max_cat_to_onehot=None,\n",
              "                                            max_delta_step=None, max_depth=3,\n",
              "                                            max_leaves=None,\n",
              "                                            min_child_weight=None, missing=nan,\n",
              "                                            monotone_constraints=None,\n",
              "                                            multi_strategy=None,\n",
              "                                            n_estimators=100, n_jobs=-1,\n",
              "                                            num_parallel_tree=None,\n",
              "                                            random_state=42, ...)),\n",
              "                             (&#x27;lgb&#x27;,\n",
              "                              LGBMClassifier(max_depth=5, n_jobs=-1,\n",
              "                                             num_leaves=127, random_state=42,\n",
              "                                             verbose=-1))],\n",
              "                 voting=&#x27;soft&#x27;)</pre><b>In a Jupyter environment, please rerun this cell to show the HTML representation or trust the notebook. <br />On GitHub, the HTML representation is unable to render, please try loading this page with nbviewer.org.</b></div><div class=\"sk-container\" hidden><div class=\"sk-item sk-dashed-wrapped\"><div class=\"sk-label-container\"><div class=\"sk-label sk-toggleable\"><input class=\"sk-toggleable__control sk-hidden--visually\" id=\"sk-estimator-id-5\" type=\"checkbox\" ><label for=\"sk-estimator-id-5\" class=\"sk-toggleable__label sk-toggleable__label-arrow\">VotingClassifier</label><div class=\"sk-toggleable__content\"><pre>VotingClassifier(estimators=[(&#x27;rf&#x27;,\n",
              "                              RandomForestClassifier(max_depth=10,\n",
              "                                                     max_features=&#x27;log2&#x27;,\n",
              "                                                     n_estimators=200,\n",
              "                                                     n_jobs=-1,\n",
              "                                                     random_state=42)),\n",
              "                             (&#x27;xgb&#x27;,\n",
              "                              XGBClassifier(base_score=None, booster=None,\n",
              "                                            callbacks=None,\n",
              "                                            colsample_bylevel=None,\n",
              "                                            colsample_bynode=None,\n",
              "                                            colsample_bytree=None, device=None,\n",
              "                                            early_stopping_rounds=None,\n",
              "                                            enable_categorical=False,\n",
              "                                            eval_metric=&#x27;loglo...\n",
              "                                            learning_rate=0.1, max_bin=None,\n",
              "                                            max_cat_threshold=None,\n",
              "                                            max_cat_to_onehot=None,\n",
              "                                            max_delta_step=None, max_depth=3,\n",
              "                                            max_leaves=None,\n",
              "                                            min_child_weight=None, missing=nan,\n",
              "                                            monotone_constraints=None,\n",
              "                                            multi_strategy=None,\n",
              "                                            n_estimators=100, n_jobs=-1,\n",
              "                                            num_parallel_tree=None,\n",
              "                                            random_state=42, ...)),\n",
              "                             (&#x27;lgb&#x27;,\n",
              "                              LGBMClassifier(max_depth=5, n_jobs=-1,\n",
              "                                             num_leaves=127, random_state=42,\n",
              "                                             verbose=-1))],\n",
              "                 voting=&#x27;soft&#x27;)</pre></div></div></div><div class=\"sk-parallel\"><div class=\"sk-parallel-item\"><div class=\"sk-item\"><div class=\"sk-label-container\"><div class=\"sk-label sk-toggleable\"><label>rf</label></div></div><div class=\"sk-serial\"><div class=\"sk-item\"><div class=\"sk-estimator sk-toggleable\"><input class=\"sk-toggleable__control sk-hidden--visually\" id=\"sk-estimator-id-6\" type=\"checkbox\" ><label for=\"sk-estimator-id-6\" class=\"sk-toggleable__label sk-toggleable__label-arrow\">RandomForestClassifier</label><div class=\"sk-toggleable__content\"><pre>RandomForestClassifier(max_depth=10, max_features=&#x27;log2&#x27;, n_estimators=200,\n",
              "                       n_jobs=-1, random_state=42)</pre></div></div></div></div></div></div><div class=\"sk-parallel-item\"><div class=\"sk-item\"><div class=\"sk-label-container\"><div class=\"sk-label sk-toggleable\"><label>xgb</label></div></div><div class=\"sk-serial\"><div class=\"sk-item\"><div class=\"sk-estimator sk-toggleable\"><input class=\"sk-toggleable__control sk-hidden--visually\" id=\"sk-estimator-id-7\" type=\"checkbox\" ><label for=\"sk-estimator-id-7\" class=\"sk-toggleable__label sk-toggleable__label-arrow\">XGBClassifier</label><div class=\"sk-toggleable__content\"><pre>XGBClassifier(base_score=None, booster=None, callbacks=None,\n",
              "              colsample_bylevel=None, colsample_bynode=None,\n",
              "              colsample_bytree=None, device=None, early_stopping_rounds=None,\n",
              "              enable_categorical=False, eval_metric=&#x27;logloss&#x27;,\n",
              "              feature_types=None, gamma=None, grow_policy=None,\n",
              "              importance_type=None, interaction_constraints=None,\n",
              "              learning_rate=0.1, max_bin=None, max_cat_threshold=None,\n",
              "              max_cat_to_onehot=None, max_delta_step=None, max_depth=3,\n",
              "              max_leaves=None, min_child_weight=None, missing=nan,\n",
              "              monotone_constraints=None, multi_strategy=None, n_estimators=100,\n",
              "              n_jobs=-1, num_parallel_tree=None, random_state=42, ...)</pre></div></div></div></div></div></div><div class=\"sk-parallel-item\"><div class=\"sk-item\"><div class=\"sk-label-container\"><div class=\"sk-label sk-toggleable\"><label>lgb</label></div></div><div class=\"sk-serial\"><div class=\"sk-item\"><div class=\"sk-estimator sk-toggleable\"><input class=\"sk-toggleable__control sk-hidden--visually\" id=\"sk-estimator-id-8\" type=\"checkbox\" ><label for=\"sk-estimator-id-8\" class=\"sk-toggleable__label sk-toggleable__label-arrow\">LGBMClassifier</label><div class=\"sk-toggleable__content\"><pre>LGBMClassifier(max_depth=5, n_jobs=-1, num_leaves=127, random_state=42,\n",
              "               verbose=-1)</pre></div></div></div></div></div></div></div></div></div></div>"
            ],
            "text/plain": [
              "VotingClassifier(estimators=[('rf',\n",
              "                              RandomForestClassifier(max_depth=10,\n",
              "                                                     max_features='log2',\n",
              "                                                     n_estimators=200,\n",
              "                                                     n_jobs=-1,\n",
              "                                                     random_state=42)),\n",
              "                             ('xgb',\n",
              "                              XGBClassifier(base_score=None, booster=None,\n",
              "                                            callbacks=None,\n",
              "                                            colsample_bylevel=None,\n",
              "                                            colsample_bynode=None,\n",
              "                                            colsample_bytree=None, device=None,\n",
              "                                            early_stopping_rounds=None,\n",
              "                                            enable_categorical=False,\n",
              "                                            eval_metric='loglo...\n",
              "                                            learning_rate=0.1, max_bin=None,\n",
              "                                            max_cat_threshold=None,\n",
              "                                            max_cat_to_onehot=None,\n",
              "                                            max_delta_step=None, max_depth=3,\n",
              "                                            max_leaves=None,\n",
              "                                            min_child_weight=None, missing=nan,\n",
              "                                            monotone_constraints=None,\n",
              "                                            multi_strategy=None,\n",
              "                                            n_estimators=100, n_jobs=-1,\n",
              "                                            num_parallel_tree=None,\n",
              "                                            random_state=42, ...)),\n",
              "                             ('lgb',\n",
              "                              LGBMClassifier(max_depth=5, n_jobs=-1,\n",
              "                                             num_leaves=127, random_state=42,\n",
              "                                             verbose=-1))],\n",
              "                 voting='soft')"
            ]
          },
          "execution_count": 31,
          "metadata": {},
          "output_type": "execute_result"
        }
      ],
      "source": [
        "# 2. Voting Classifier (Soft Voting)\n",
        "print(\"\\n\" + \"=\" * 50)\n",
        "print(\"Voting Classifier (Soft Voting) 학습 중...\")\n",
        "print(\"=\" * 50)\n",
        "\n",
        "soft_voting_clf = VotingClassifier(\n",
        "    estimators=[\n",
        "        ('rf', rf_final),\n",
        "        ('xgb', xgb_final),\n",
        "        ('lgb', lgb_final)\n",
        "    ],\n",
        "    voting='soft'\n",
        ")\n",
        "\n",
        "soft_voting_clf.fit(X_train_scaled, y_train)"
      ]
    },
    {
      "cell_type": "markdown",
      "metadata": {},
      "source": [
        "## Stacking Classifier"
      ]
    },
    {
      "cell_type": "code",
      "execution_count": 32,
      "metadata": {},
      "outputs": [
        {
          "name": "stdout",
          "output_type": "stream",
          "text": [
            "\n",
            "==================================================\n",
            "Stacking Classifier 학습 중...\n",
            "==================================================\n"
          ]
        },
        {
          "data": {
            "text/html": [
              "<style>#sk-container-id-3 {color: black;background-color: white;}#sk-container-id-3 pre{padding: 0;}#sk-container-id-3 div.sk-toggleable {background-color: white;}#sk-container-id-3 label.sk-toggleable__label {cursor: pointer;display: block;width: 100%;margin-bottom: 0;padding: 0.3em;box-sizing: border-box;text-align: center;}#sk-container-id-3 label.sk-toggleable__label-arrow:before {content: \"▸\";float: left;margin-right: 0.25em;color: #696969;}#sk-container-id-3 label.sk-toggleable__label-arrow:hover:before {color: black;}#sk-container-id-3 div.sk-estimator:hover label.sk-toggleable__label-arrow:before {color: black;}#sk-container-id-3 div.sk-toggleable__content {max-height: 0;max-width: 0;overflow: hidden;text-align: left;background-color: #f0f8ff;}#sk-container-id-3 div.sk-toggleable__content pre {margin: 0.2em;color: black;border-radius: 0.25em;background-color: #f0f8ff;}#sk-container-id-3 input.sk-toggleable__control:checked~div.sk-toggleable__content {max-height: 200px;max-width: 100%;overflow: auto;}#sk-container-id-3 input.sk-toggleable__control:checked~label.sk-toggleable__label-arrow:before {content: \"▾\";}#sk-container-id-3 div.sk-estimator input.sk-toggleable__control:checked~label.sk-toggleable__label {background-color: #d4ebff;}#sk-container-id-3 div.sk-label input.sk-toggleable__control:checked~label.sk-toggleable__label {background-color: #d4ebff;}#sk-container-id-3 input.sk-hidden--visually {border: 0;clip: rect(1px 1px 1px 1px);clip: rect(1px, 1px, 1px, 1px);height: 1px;margin: -1px;overflow: hidden;padding: 0;position: absolute;width: 1px;}#sk-container-id-3 div.sk-estimator {font-family: monospace;background-color: #f0f8ff;border: 1px dotted black;border-radius: 0.25em;box-sizing: border-box;margin-bottom: 0.5em;}#sk-container-id-3 div.sk-estimator:hover {background-color: #d4ebff;}#sk-container-id-3 div.sk-parallel-item::after {content: \"\";width: 100%;border-bottom: 1px solid gray;flex-grow: 1;}#sk-container-id-3 div.sk-label:hover label.sk-toggleable__label {background-color: #d4ebff;}#sk-container-id-3 div.sk-serial::before {content: \"\";position: absolute;border-left: 1px solid gray;box-sizing: border-box;top: 0;bottom: 0;left: 50%;z-index: 0;}#sk-container-id-3 div.sk-serial {display: flex;flex-direction: column;align-items: center;background-color: white;padding-right: 0.2em;padding-left: 0.2em;position: relative;}#sk-container-id-3 div.sk-item {position: relative;z-index: 1;}#sk-container-id-3 div.sk-parallel {display: flex;align-items: stretch;justify-content: center;background-color: white;position: relative;}#sk-container-id-3 div.sk-item::before, #sk-container-id-3 div.sk-parallel-item::before {content: \"\";position: absolute;border-left: 1px solid gray;box-sizing: border-box;top: 0;bottom: 0;left: 50%;z-index: -1;}#sk-container-id-3 div.sk-parallel-item {display: flex;flex-direction: column;z-index: 1;position: relative;background-color: white;}#sk-container-id-3 div.sk-parallel-item:first-child::after {align-self: flex-end;width: 50%;}#sk-container-id-3 div.sk-parallel-item:last-child::after {align-self: flex-start;width: 50%;}#sk-container-id-3 div.sk-parallel-item:only-child::after {width: 0;}#sk-container-id-3 div.sk-dashed-wrapped {border: 1px dashed gray;margin: 0 0.4em 0.5em 0.4em;box-sizing: border-box;padding-bottom: 0.4em;background-color: white;}#sk-container-id-3 div.sk-label label {font-family: monospace;font-weight: bold;display: inline-block;line-height: 1.2em;}#sk-container-id-3 div.sk-label-container {text-align: center;}#sk-container-id-3 div.sk-container {/* jupyter's `normalize.less` sets `[hidden] { display: none; }` but bootstrap.min.css set `[hidden] { display: none !important; }` so we also need the `!important` here to be able to override the default hidden behavior on the sphinx rendered scikit-learn.org. See: https://github.com/scikit-learn/scikit-learn/issues/21755 */display: inline-block !important;position: relative;}#sk-container-id-3 div.sk-text-repr-fallback {display: none;}</style><div id=\"sk-container-id-3\" class=\"sk-top-container\"><div class=\"sk-text-repr-fallback\"><pre>StackingClassifier(cv=5,\n",
              "                   estimators=[(&#x27;rf&#x27;,\n",
              "                                RandomForestClassifier(max_depth=10,\n",
              "                                                       max_features=&#x27;log2&#x27;,\n",
              "                                                       n_estimators=200,\n",
              "                                                       n_jobs=-1,\n",
              "                                                       random_state=42)),\n",
              "                               (&#x27;xgb&#x27;,\n",
              "                                XGBClassifier(base_score=None, booster=None,\n",
              "                                              callbacks=None,\n",
              "                                              colsample_bylevel=None,\n",
              "                                              colsample_bynode=None,\n",
              "                                              colsample_bytree=None,\n",
              "                                              device=None,\n",
              "                                              early_stopping_rounds=None,\n",
              "                                              enable_categorical=False,\n",
              "                                              eval_metric...\n",
              "                                              max_delta_step=None, max_depth=3,\n",
              "                                              max_leaves=None,\n",
              "                                              min_child_weight=None,\n",
              "                                              missing=nan,\n",
              "                                              monotone_constraints=None,\n",
              "                                              multi_strategy=None,\n",
              "                                              n_estimators=100, n_jobs=-1,\n",
              "                                              num_parallel_tree=None,\n",
              "                                              random_state=42, ...)),\n",
              "                               (&#x27;lgb&#x27;,\n",
              "                                LGBMClassifier(max_depth=5, n_jobs=-1,\n",
              "                                               num_leaves=127, random_state=42,\n",
              "                                               verbose=-1))],\n",
              "                   final_estimator=LogisticRegression(random_state=42),\n",
              "                   stack_method=&#x27;predict_proba&#x27;)</pre><b>In a Jupyter environment, please rerun this cell to show the HTML representation or trust the notebook. <br />On GitHub, the HTML representation is unable to render, please try loading this page with nbviewer.org.</b></div><div class=\"sk-container\" hidden><div class=\"sk-item sk-dashed-wrapped\"><div class=\"sk-label-container\"><div class=\"sk-label sk-toggleable\"><input class=\"sk-toggleable__control sk-hidden--visually\" id=\"sk-estimator-id-9\" type=\"checkbox\" ><label for=\"sk-estimator-id-9\" class=\"sk-toggleable__label sk-toggleable__label-arrow\">StackingClassifier</label><div class=\"sk-toggleable__content\"><pre>StackingClassifier(cv=5,\n",
              "                   estimators=[(&#x27;rf&#x27;,\n",
              "                                RandomForestClassifier(max_depth=10,\n",
              "                                                       max_features=&#x27;log2&#x27;,\n",
              "                                                       n_estimators=200,\n",
              "                                                       n_jobs=-1,\n",
              "                                                       random_state=42)),\n",
              "                               (&#x27;xgb&#x27;,\n",
              "                                XGBClassifier(base_score=None, booster=None,\n",
              "                                              callbacks=None,\n",
              "                                              colsample_bylevel=None,\n",
              "                                              colsample_bynode=None,\n",
              "                                              colsample_bytree=None,\n",
              "                                              device=None,\n",
              "                                              early_stopping_rounds=None,\n",
              "                                              enable_categorical=False,\n",
              "                                              eval_metric...\n",
              "                                              max_delta_step=None, max_depth=3,\n",
              "                                              max_leaves=None,\n",
              "                                              min_child_weight=None,\n",
              "                                              missing=nan,\n",
              "                                              monotone_constraints=None,\n",
              "                                              multi_strategy=None,\n",
              "                                              n_estimators=100, n_jobs=-1,\n",
              "                                              num_parallel_tree=None,\n",
              "                                              random_state=42, ...)),\n",
              "                               (&#x27;lgb&#x27;,\n",
              "                                LGBMClassifier(max_depth=5, n_jobs=-1,\n",
              "                                               num_leaves=127, random_state=42,\n",
              "                                               verbose=-1))],\n",
              "                   final_estimator=LogisticRegression(random_state=42),\n",
              "                   stack_method=&#x27;predict_proba&#x27;)</pre></div></div></div><div class=\"sk-serial\"><div class=\"sk-item\"><div class=\"sk-parallel\"><div class=\"sk-parallel-item\"><div class=\"sk-item\"><div class=\"sk-label-container\"><div class=\"sk-label sk-toggleable\"><label>rf</label></div></div><div class=\"sk-serial\"><div class=\"sk-item\"><div class=\"sk-estimator sk-toggleable\"><input class=\"sk-toggleable__control sk-hidden--visually\" id=\"sk-estimator-id-10\" type=\"checkbox\" ><label for=\"sk-estimator-id-10\" class=\"sk-toggleable__label sk-toggleable__label-arrow\">RandomForestClassifier</label><div class=\"sk-toggleable__content\"><pre>RandomForestClassifier(max_depth=10, max_features=&#x27;log2&#x27;, n_estimators=200,\n",
              "                       n_jobs=-1, random_state=42)</pre></div></div></div></div></div></div><div class=\"sk-parallel-item\"><div class=\"sk-item\"><div class=\"sk-label-container\"><div class=\"sk-label sk-toggleable\"><label>xgb</label></div></div><div class=\"sk-serial\"><div class=\"sk-item\"><div class=\"sk-estimator sk-toggleable\"><input class=\"sk-toggleable__control sk-hidden--visually\" id=\"sk-estimator-id-11\" type=\"checkbox\" ><label for=\"sk-estimator-id-11\" class=\"sk-toggleable__label sk-toggleable__label-arrow\">XGBClassifier</label><div class=\"sk-toggleable__content\"><pre>XGBClassifier(base_score=None, booster=None, callbacks=None,\n",
              "              colsample_bylevel=None, colsample_bynode=None,\n",
              "              colsample_bytree=None, device=None, early_stopping_rounds=None,\n",
              "              enable_categorical=False, eval_metric=&#x27;logloss&#x27;,\n",
              "              feature_types=None, gamma=None, grow_policy=None,\n",
              "              importance_type=None, interaction_constraints=None,\n",
              "              learning_rate=0.1, max_bin=None, max_cat_threshold=None,\n",
              "              max_cat_to_onehot=None, max_delta_step=None, max_depth=3,\n",
              "              max_leaves=None, min_child_weight=None, missing=nan,\n",
              "              monotone_constraints=None, multi_strategy=None, n_estimators=100,\n",
              "              n_jobs=-1, num_parallel_tree=None, random_state=42, ...)</pre></div></div></div></div></div></div><div class=\"sk-parallel-item\"><div class=\"sk-item\"><div class=\"sk-label-container\"><div class=\"sk-label sk-toggleable\"><label>lgb</label></div></div><div class=\"sk-serial\"><div class=\"sk-item\"><div class=\"sk-estimator sk-toggleable\"><input class=\"sk-toggleable__control sk-hidden--visually\" id=\"sk-estimator-id-12\" type=\"checkbox\" ><label for=\"sk-estimator-id-12\" class=\"sk-toggleable__label sk-toggleable__label-arrow\">LGBMClassifier</label><div class=\"sk-toggleable__content\"><pre>LGBMClassifier(max_depth=5, n_jobs=-1, num_leaves=127, random_state=42,\n",
              "               verbose=-1)</pre></div></div></div></div></div></div></div></div><div class=\"sk-item\"><div class=\"sk-parallel\"><div class=\"sk-parallel-item\"><div class=\"sk-item\"><div class=\"sk-label-container\"><div class=\"sk-label sk-toggleable\"><label>final_estimator</label></div></div><div class=\"sk-serial\"><div class=\"sk-item\"><div class=\"sk-estimator sk-toggleable\"><input class=\"sk-toggleable__control sk-hidden--visually\" id=\"sk-estimator-id-13\" type=\"checkbox\" ><label for=\"sk-estimator-id-13\" class=\"sk-toggleable__label sk-toggleable__label-arrow\">LogisticRegression</label><div class=\"sk-toggleable__content\"><pre>LogisticRegression(random_state=42)</pre></div></div></div></div></div></div></div></div></div></div></div></div>"
            ],
            "text/plain": [
              "StackingClassifier(cv=5,\n",
              "                   estimators=[('rf',\n",
              "                                RandomForestClassifier(max_depth=10,\n",
              "                                                       max_features='log2',\n",
              "                                                       n_estimators=200,\n",
              "                                                       n_jobs=-1,\n",
              "                                                       random_state=42)),\n",
              "                               ('xgb',\n",
              "                                XGBClassifier(base_score=None, booster=None,\n",
              "                                              callbacks=None,\n",
              "                                              colsample_bylevel=None,\n",
              "                                              colsample_bynode=None,\n",
              "                                              colsample_bytree=None,\n",
              "                                              device=None,\n",
              "                                              early_stopping_rounds=None,\n",
              "                                              enable_categorical=False,\n",
              "                                              eval_metric...\n",
              "                                              max_delta_step=None, max_depth=3,\n",
              "                                              max_leaves=None,\n",
              "                                              min_child_weight=None,\n",
              "                                              missing=nan,\n",
              "                                              monotone_constraints=None,\n",
              "                                              multi_strategy=None,\n",
              "                                              n_estimators=100, n_jobs=-1,\n",
              "                                              num_parallel_tree=None,\n",
              "                                              random_state=42, ...)),\n",
              "                               ('lgb',\n",
              "                                LGBMClassifier(max_depth=5, n_jobs=-1,\n",
              "                                               num_leaves=127, random_state=42,\n",
              "                                               verbose=-1))],\n",
              "                   final_estimator=LogisticRegression(random_state=42),\n",
              "                   stack_method='predict_proba')"
            ]
          },
          "execution_count": 32,
          "metadata": {},
          "output_type": "execute_result"
        }
      ],
      "source": [
        "print(\"\\n\" + \"=\" * 50)\n",
        "print(\"Stacking Classifier 학습 중...\")\n",
        "print(\"=\" * 50)\n",
        "\n",
        "# 메타 모델로 로지스틱 회귀 사용\n",
        "stacking_clf = StackingClassifier(\n",
        "    estimators=[\n",
        "        ('rf', rf_final),\n",
        "        ('xgb', xgb_final),\n",
        "        ('lgb', lgb_final)\n",
        "    ],\n",
        "    final_estimator=LogisticRegression(random_state=42),\n",
        "    cv=5,\n",
        "    stack_method='predict_proba'\n",
        ")\n",
        "\n",
        "stacking_clf.fit(X_train_scaled, y_train)"
      ]
    },
    {
      "cell_type": "markdown",
      "metadata": {},
      "source": [
        "## Custom Weighted Voting"
      ]
    },
    {
      "cell_type": "code",
      "execution_count": 33,
      "metadata": {},
      "outputs": [
        {
          "name": "stdout",
          "output_type": "stream",
          "text": [
            "\n",
            "==================================================\n",
            "Custom Weighted Voting 구현 중...\n",
            "==================================================\n"
          ]
        }
      ],
      "source": [
        "print(\"\\n\" + \"=\" * 50)\n",
        "print(\"Custom Weighted Voting 구현 중...\")\n",
        "print(\"=\" * 50)\n",
        "\n",
        "# 각 모델을 학습\n",
        "rf_final.fit(X_train_scaled, y_train)\n",
        "xgb_final.fit(X_train_scaled, y_train)\n",
        "lgb_final.fit(X_train_scaled, y_train)\n",
        "\n",
        "# 가중치 설정 (성능에 비례하여)\n",
        "# LightGBM > XGBoost > Random Forest 순으로 성능이 좋았으므로\n",
        "weights = {\n",
        "    'rf': 0.30,    # 가장 성능이 낮음\n",
        "    'xgb': 0.35,   # 중간 성능\n",
        "    'lgb': 0.35    # 가장 성능이 좋음\n",
        "}\n",
        "\n",
        "def weighted_voting_predict(X, models, weights):\n",
        "    \"\"\"가중치를 적용한 소프트 보팅\"\"\"\n",
        "    predictions = []\n",
        "    \n",
        "    # 각 모델의 예측 확률 가져오기\n",
        "    rf_proba = models['rf'].predict_proba(X)\n",
        "    xgb_proba = models['xgb'].predict_proba(X)\n",
        "    lgb_proba = models['lgb'].predict_proba(X)\n",
        "    \n",
        "    # 가중 평균 계산\n",
        "    weighted_proba = (\n",
        "        weights['rf'] * rf_proba +\n",
        "        weights['xgb'] * xgb_proba +\n",
        "        weights['lgb'] * lgb_proba\n",
        "    )\n",
        "    \n",
        "    # 최종 예측\n",
        "    final_predictions = np.argmax(weighted_proba, axis=1)\n",
        "    \n",
        "    return final_predictions, weighted_proba"
      ]
    },
    {
      "cell_type": "code",
      "execution_count": 34,
      "metadata": {},
      "outputs": [],
      "source": [
        "# 모든 앙상블 모델 평가\n",
        "models_to_compare = {\n",
        "    \"Random Forest\": rf_final,\n",
        "    \"XGBoost\": xgb_final,\n",
        "    \"LightGBM\": lgb_final,\n",
        "    \"Hard Voting\": hard_voting_clf,\n",
        "    \"Soft Voting\": soft_voting_clf,\n",
        "    \"Stacking\": stacking_clf\n",
        "}\n",
        "\n",
        "# 결과 저장\n",
        "ensemble_results = []\n",
        "\n",
        "for name, model in models_to_compare.items():\n",
        "    if name == \"Custom Weighted\":\n",
        "        # 커스텀 가중 보팅은 별도로 처리\n",
        "        continue\n",
        "    else:\n",
        "        y_pred = model.predict(X_val_scaled)\n",
        "        \n",
        "        # Hard Voting의 경우 predict_proba가 없으므로 별도 처리\n",
        "        if name == \"Hard Voting\":\n",
        "            # AUC 계산을 위해 개별 모델들의 확률값 평균 사용\n",
        "            rf_proba = rf_final.predict_proba(X_val_scaled)[:, 1]\n",
        "            xgb_proba = xgb_final.predict_proba(X_val_scaled)[:, 1]\n",
        "            lgb_proba = lgb_final.predict_proba(X_val_scaled)[:, 1]\n",
        "            y_pred_proba = (rf_proba + xgb_proba + lgb_proba) / 3\n",
        "        else:\n",
        "            y_pred_proba = model.predict_proba(X_val_scaled)[:, 1]\n",
        "    \n",
        "    accuracy = accuracy_score(y_val, y_pred)\n",
        "    f1 = f1_score(y_val, y_pred)\n",
        "    auc = roc_auc_score(y_val, y_pred_proba)\n",
        "    avg_score = (accuracy + f1 + auc) / 3\n",
        "    \n",
        "    ensemble_results.append({\n",
        "        \"Model\": name,\n",
        "        \"Accuracy\": accuracy,\n",
        "        \"F1 Score\": f1,\n",
        "        \"AUC\": auc,\n",
        "        \"Average Score\": avg_score\n",
        "    })"
      ]
    },
    {
      "cell_type": "code",
      "execution_count": 35,
      "metadata": {},
      "outputs": [
        {
          "name": "stdout",
          "output_type": "stream",
          "text": [
            "\n",
            "==================================================\n",
            "모든 모델 성능 비교 (앙상블 포함)\n",
            "==================================================\n",
            "          Model  Accuracy  F1 Score      AUC  Average Score\n",
            "  Random Forest  0.653263  0.635595 0.719163       0.669340\n",
            "        XGBoost  0.654871  0.636672 0.716703       0.669415\n",
            "       LightGBM  0.657169  0.639090 0.720760       0.672340\n",
            "    Hard Voting  0.657399  0.640982 0.723012       0.673798\n",
            "    Soft Voting  0.659697  0.643733 0.723012       0.675481\n",
            "       Stacking  0.659697  0.645099 0.722592       0.675796\n",
            "Custom Weighted  0.658778  0.642943 0.722896       0.674872\n"
          ]
        }
      ],
      "source": [
        "# Custom Weighted Voting 평가\n",
        "trained_models = {'rf': rf_final, 'xgb': xgb_final, 'lgb': lgb_final}\n",
        "y_pred_weighted, y_pred_proba_weighted = weighted_voting_predict(X_val_scaled, trained_models, weights)\n",
        "\n",
        "accuracy = accuracy_score(y_val, y_pred_weighted)\n",
        "f1 = f1_score(y_val, y_pred_weighted)\n",
        "auc = roc_auc_score(y_val, y_pred_proba_weighted[:, 1])\n",
        "avg_score = (accuracy + f1 + auc) / 3\n",
        "\n",
        "ensemble_results.append({\n",
        "    \"Model\": \"Custom Weighted\",\n",
        "    \"Accuracy\": accuracy,\n",
        "    \"F1 Score\": f1,\n",
        "    \"AUC\": auc,\n",
        "    \"Average Score\": avg_score\n",
        "})\n",
        "\n",
        "# 결과 출력\n",
        "print(\"\\n\" + \"=\" * 50)\n",
        "print(\"모든 모델 성능 비교 (앙상블 포함)\")\n",
        "print(\"=\" * 50)\n",
        "\n",
        "ensemble_df = pd.DataFrame(ensemble_results)\n",
        "print(ensemble_df.to_string(index=False))\n"
      ]
    },
    {
      "cell_type": "code",
      "execution_count": 36,
      "metadata": {},
      "outputs": [
        {
          "name": "stdout",
          "output_type": "stream",
          "text": [
            "\n",
            "개별 모델 평균 성능: 0.670365\n",
            "앙상블 모델 평균 성능: 0.674987\n",
            "성능 향상: 0.004622\n"
          ]
        },
        {
          "data": {
            "image/png": "[encoded data removed]",
            "text/plain": [
              "<Figure size 1200x800 with 1 Axes>"
            ]
          },
          "metadata": {},
          "output_type": "display_data"
        }
      ],
      "source": [
        "# 성능 향상 분석\n",
        "base_avg = ensemble_df[ensemble_df[\"Model\"].isin([\"Random Forest\", \"XGBoost\", \"LightGBM\"])][\"Average Score\"].mean()\n",
        "ensemble_avg = ensemble_df[ensemble_df[\"Model\"].isin([\"Hard Voting\", \"Soft Voting\", \"Stacking\", \"Custom Weighted\"])][\"Average Score\"].mean()\n",
        "\n",
        "print(f\"\\n개별 모델 평균 성능: {base_avg:.6f}\")\n",
        "print(f\"앙상블 모델 평균 성능: {ensemble_avg:.6f}\")\n",
        "print(f\"성능 향상: {ensemble_avg - base_avg:.6f}\")\n",
        "\n",
        "# 시각화\n",
        "fig, ax = plt.subplots(1, 1, figsize=(12, 8))\n",
        "metrics = [\"Accuracy\", \"F1 Score\", \"AUC\", \"Average Score\"]\n",
        "x = np.arange(len(ensemble_results))\n",
        "width = 0.2\n",
        "\n",
        "colors = ['lightblue', 'lightgreen', 'lightcoral', 'gold', 'lightpink', 'lightgray', 'lightsalmon']\n",
        "\n",
        "for i, metric in enumerate(metrics):\n",
        "    offset = (i - 1.5) * width\n",
        "    bars = ax.bar(x + offset, ensemble_df[metric], width, label=metric, alpha=0.7)\n",
        "    \n",
        "    # 값 표시\n",
        "    for bar in bars:\n",
        "        height = bar.get_height()\n",
        "        ax.annotate(f'{height:.3f}',\n",
        "                    xy=(bar.get_x() + bar.get_width() / 2, height),\n",
        "                    xytext=(0, 3),\n",
        "                    textcoords=\"offset points\",\n",
        "                    ha='center', va='bottom', fontsize=8)\n",
        "\n",
        "ax.set_ylabel('Score')\n",
        "ax.set_title('Model Performance Comparison (Including Ensemble Methods)')\n",
        "ax.set_xticks(x)\n",
        "ax.set_xticklabels(ensemble_df[\"Model\"], rotation=45, ha='right')\n",
        "ax.legend(bbox_to_anchor=(1.05, 1), loc='upper left')\n",
        "ax.grid(True, alpha=0.3)\n",
        "ax.set_ylim(0, 1.1)\n",
        "\n",
        "plt.tight_layout()\n",
        "plt.show()"
      ]
    },
    {
      "cell_type": "code",
      "execution_count": 37,
      "metadata": {},
      "outputs": [
        {
          "name": "stdout",
          "output_type": "stream",
          "text": [
            "\n",
            "최고 성능 모델: Stacking\n",
            "최고 Average Score: 0.675796\n",
            "\n",
            "==================================================\n",
            "앙상블 방법 설명\n",
            "==================================================\n",
            "1. Hard Voting: 다수결로 최종 클래스 결정\n",
            "2. Soft Voting: 각 모델의 확률값 평균으로 최종 클래스 결정\n",
            "3. Stacking: 기본 모델들의 예측을 메타 모델(로지스틱 회귀)의 입력으로 사용\n",
            "4. Custom Weighted: 각 모델의 성능에 비례한 가중치로 예측 확률 결합\n"
          ]
        }
      ],
      "source": [
        "# 최고 성능 모델 선택\n",
        "best_model_idx = ensemble_df[\"Average Score\"].idxmax()\n",
        "best_model_name = ensemble_df.loc[best_model_idx, \"Model\"]\n",
        "best_score = ensemble_df.loc[best_model_idx, \"Average Score\"]\n",
        "\n",
        "print(f\"\\n최고 성능 모델: {best_model_name}\")\n",
        "print(f\"최고 Average Score: {best_score:.6f}\")\n",
        "\n",
        "# 최고 성능 모델이 앙상블 모델인 경우, 해당 모델을 최종 모델로 선택\n",
        "if best_model_name == \"Hard Voting\":\n",
        "    final_model = hard_voting_clf\n",
        "elif best_model_name == \"Soft Voting\":\n",
        "    final_model = soft_voting_clf\n",
        "elif best_model_name == \"Stacking\":\n",
        "    final_model = stacking_clf\n",
        "elif best_model_name == \"Custom Weighted\":\n",
        "    # Custom Weighted는 함수로 구현되어 있음\n",
        "    final_model = \"custom_weighted\"\n",
        "    print(\"Custom Weighted Voting이 최고 성능 모델입니다.\")\n",
        "    print(\"weighted_voting_predict 함수를 사용하여 예측하세요.\")\n",
        "else:\n",
        "    final_model = models_to_compare[best_model_name]\n",
        "\n",
        "# 앙상블 방법 설명\n",
        "print(\"\\n\" + \"=\" * 50)\n",
        "print(\"앙상블 방법 설명\")\n",
        "print(\"=\" * 50)\n",
        "print(\"1. Hard Voting: 다수결로 최종 클래스 결정\")\n",
        "print(\"2. Soft Voting: 각 모델의 확률값 평균으로 최종 클래스 결정\")\n",
        "print(\"3. Stacking: 기본 모델들의 예측을 메타 모델(로지스틱 회귀)의 입력으로 사용\")\n",
        "print(\"4. Custom Weighted: 각 모델의 성능에 비례한 가중치로 예측 확률 결합\")"
      ]
    },
    {
      "cell_type": "markdown",
      "metadata": {},
      "source": [
        "# fine tuning"
      ]
    },
    {
      "cell_type": "code",
      "execution_count": 38,
      "metadata": {},
      "outputs": [
        {
          "name": "stdout",
          "output_type": "stream",
          "text": [
            "==================================================\n",
            "다양한 메타 모델로 Stacking 파인튜닝\n",
            "==================================================\n",
            "\n",
            "LogisticRegression을 메타 모델로 사용한 Stacking 학습 중...\n",
            "\n",
            "GradientBoosting을 메타 모델로 사용한 Stacking 학습 중...\n",
            "\n",
            "ExtraTrees을 메타 모델로 사용한 Stacking 학습 중...\n",
            "\n",
            "SVM을 메타 모델로 사용한 Stacking 학습 중...\n",
            "\n",
            "KNN을 메타 모델로 사용한 Stacking 학습 중...\n",
            "\n",
            "MLP을 메타 모델로 사용한 Stacking 학습 중...\n",
            "\n",
            "메타 모델별 Stacking 성능:\n",
            "        Meta Model  Accuracy  F1 Score      AUC  Average Score\n",
            "LogisticRegression  0.659697  0.645099 0.722592       0.675796\n",
            "  GradientBoosting  0.657399  0.638195 0.720976       0.672190\n",
            "        ExtraTrees  0.630974  0.606951 0.678841       0.638922\n",
            "               SVM  0.658778  0.644482 0.700612       0.667957\n",
            "               KNN  0.610983  0.594685 0.645415       0.617028\n",
            "               MLP  0.660156  0.641975 0.722655       0.674929\n",
            "\n",
            "최고 성능 메타 모델: LogisticRegression\n",
            "최고 Average Score: 0.675796\n"
          ]
        }
      ],
      "source": [
        "# 1. 다양한 메타 모델로 Stacking 시도\n",
        "from sklearn.ensemble import ExtraTreesClassifier, GradientBoostingClassifier\n",
        "from sklearn.svm import SVC\n",
        "from sklearn.neighbors import KNeighborsClassifier\n",
        "from sklearn.neural_network import MLPClassifier\n",
        "\n",
        "print(\"=\" * 50)\n",
        "print(\"다양한 메타 모델로 Stacking 파인튜닝\")\n",
        "print(\"=\" * 50)\n",
        "\n",
        "# 다양한 메타 모델들\n",
        "meta_models = {\n",
        "    'LogisticRegression': LogisticRegression(random_state=42),\n",
        "    'GradientBoosting': GradientBoostingClassifier(random_state=42),\n",
        "    'ExtraTrees': ExtraTreesClassifier(n_estimators=100, random_state=42),\n",
        "    'SVM': SVC(kernel='rbf', probability=True, random_state=42),\n",
        "    'KNN': KNeighborsClassifier(n_neighbors=5),\n",
        "    'MLP': MLPClassifier(hidden_layer_sizes=(100,), max_iter=500, random_state=42)\n",
        "}\n",
        "\n",
        "stacking_results = []\n",
        "\n",
        "for meta_name, meta_model in meta_models.items():\n",
        "    print(f\"\\n{meta_name}을 메타 모델로 사용한 Stacking 학습 중...\")\n",
        "    \n",
        "    stacking_clf = StackingClassifier(\n",
        "        estimators=[\n",
        "            ('rf', rf_final),\n",
        "            ('xgb', xgb_final),\n",
        "            ('lgb', lgb_final)\n",
        "        ],\n",
        "        final_estimator=meta_model,\n",
        "        cv=5,\n",
        "        stack_method='predict_proba'\n",
        "    )\n",
        "    \n",
        "    stacking_clf.fit(X_train_scaled, y_train)\n",
        "    \n",
        "    # 평가\n",
        "    y_pred = stacking_clf.predict(X_val_scaled)\n",
        "    y_pred_proba = stacking_clf.predict_proba(X_val_scaled)[:, 1]\n",
        "    \n",
        "    accuracy = accuracy_score(y_val, y_pred)\n",
        "    f1 = f1_score(y_val, y_pred)\n",
        "    auc = roc_auc_score(y_val, y_pred_proba)\n",
        "    avg_score = (accuracy + f1 + auc) / 3\n",
        "    \n",
        "    stacking_results.append({\n",
        "        \"Meta Model\": meta_name,\n",
        "        \"Accuracy\": accuracy,\n",
        "        \"F1 Score\": f1,\n",
        "        \"AUC\": auc,\n",
        "        \"Average Score\": avg_score\n",
        "    })\n",
        "\n",
        "# 결과 출력\n",
        "stacking_df = pd.DataFrame(stacking_results)\n",
        "print(\"\\n메타 모델별 Stacking 성능:\")\n",
        "print(stacking_df.to_string(index=False))\n",
        "\n",
        "# 최고 성능 메타 모델 찾기\n",
        "best_meta_idx = stacking_df[\"Average Score\"].idxmax()\n",
        "best_meta_name = stacking_df.loc[best_meta_idx, \"Meta Model\"]\n",
        "best_meta_score = stacking_df.loc[best_meta_idx, \"Average Score\"]\n",
        "\n",
        "print(f\"\\n최고 성능 메타 모델: {best_meta_name}\")\n",
        "print(f\"최고 Average Score: {best_meta_score:.6f}\")\n"
      ]
    },
    {
      "cell_type": "code",
      "execution_count": 41,
      "metadata": {},
      "outputs": [
        {
          "name": "stdout",
          "output_type": "stream",
          "text": [
            "\n",
            "==================================================\n",
            "개별 모델 파인튜닝 (더 세밀한 하이퍼파라미터)\n",
            "==================================================\n",
            "\n",
            "XGBoost 파인튜닝 중...\n",
            "Fitting 5 folds for each of 243 candidates, totalling 1215 fits\n"
          ]
        },
        {
          "name": "stderr",
          "output_type": "stream",
          "text": [
            "/Users/sojeonglee/anaconda3/lib/python3.11/site-packages/pandas/core/arrays/masked.py:60: UserWarning: Pandas requires version '1.3.6' or newer of 'bottleneck' (version '1.3.5' currently installed).\n",
            "  from pandas.core import (\n",
            "/Users/sojeonglee/anaconda3/lib/python3.11/site-packages/pandas/core/arrays/masked.py:60: UserWarning: Pandas requires version '1.3.6' or newer of 'bottleneck' (version '1.3.5' currently installed).\n",
            "  from pandas.core import (\n",
            "/Users/sojeonglee/anaconda3/lib/python3.11/site-packages/pandas/core/arrays/masked.py:60: UserWarning: Pandas requires version '1.3.6' or newer of 'bottleneck' (version '1.3.5' currently installed).\n",
            "  from pandas.core import (\n",
            "/Users/sojeonglee/anaconda3/lib/python3.11/site-packages/pandas/core/arrays/masked.py:60: UserWarning: Pandas requires version '1.3.6' or newer of 'bottleneck' (version '1.3.5' currently installed).\n",
            "  from pandas.core import (\n",
            "/Users/sojeonglee/anaconda3/lib/python3.11/site-packages/pandas/core/arrays/masked.py:60: UserWarning: Pandas requires version '1.3.6' or newer of 'bottleneck' (version '1.3.5' currently installed).\n",
            "  from pandas.core import (\n",
            "/Users/sojeonglee/anaconda3/lib/python3.11/site-packages/pandas/core/arrays/masked.py:60: UserWarning: Pandas requires version '1.3.6' or newer of 'bottleneck' (version '1.3.5' currently installed).\n",
            "  from pandas.core import (\n",
            "/Users/sojeonglee/anaconda3/lib/python3.11/site-packages/pandas/core/arrays/masked.py:60: UserWarning: Pandas requires version '1.3.6' or newer of 'bottleneck' (version '1.3.5' currently installed).\n",
            "  from pandas.core import (\n",
            "/Users/sojeonglee/anaconda3/lib/python3.11/site-packages/pandas/core/arrays/masked.py:60: UserWarning: Pandas requires version '1.3.6' or newer of 'bottleneck' (version '1.3.5' currently installed).\n",
            "  from pandas.core import (\n"
          ]
        },
        {
          "name": "stdout",
          "output_type": "stream",
          "text": [
            "XGBoost 파인튜닝 후 최고 성능: 0.668863\n",
            "XGBoost 최적 파라미터: {'colsample_bytree': 1.0, 'learning_rate': 0.05, 'max_depth': 5, 'n_estimators': 200, 'subsample': 0.8}\n",
            "\n",
            "LightGBM 파인튜닝 중 (RandomizedSearch)...\n",
            "Fitting 5 folds for each of 50 candidates, totalling 250 fits\n",
            "LightGBM 파인튜닝 후 최고 성능: 0.665141\n",
            "LightGBM 최적 파라미터: {'feature_fraction': 0.8488251044495548, 'learning_rate': 0.05019492506075167, 'max_depth': 6, 'n_estimators': 379, 'num_leaves': 141}\n"
          ]
        }
      ],
      "source": [
        "# 2. 개별 모델 파인튜닝 (더 세밀한 그리드)\n",
        "from sklearn.model_selection import RandomizedSearchCV\n",
        "from scipy.stats import uniform, randint\n",
        "\n",
        "print(\"\\n\" + \"=\" * 50)\n",
        "print(\"개별 모델 파인튜닝 (더 세밀한 하이퍼파라미터)\")\n",
        "print(\"=\" * 50)\n",
        "\n",
        "# XGBoost 파인튜닝\n",
        "print(\"\\nXGBoost 파인튜닝 중...\")\n",
        "xgb_fine_params = {\n",
        "    'n_estimators': [200, 300, 400],\n",
        "    'max_depth': [5, 6, 7],\n",
        "    'learning_rate': [0.05, 0.1, 0.15],\n",
        "    'subsample': [0.8, 0.9, 1.0],\n",
        "    'colsample_bytree': [0.8, 0.9, 1.0]\n",
        "}\n",
        "\n",
        "xgb_fine_grid = GridSearchCV(\n",
        "    xgb_model, \n",
        "    xgb_fine_params, \n",
        "    cv=kf, \n",
        "    scoring={'My score': my_scorer},\n",
        "    refit=\"My score\", \n",
        "    verbose=1,\n",
        "    n_jobs=-1\n",
        ")\n",
        "\n",
        "xgb_fine_grid.fit(X_train_scaled, y_train)\n",
        "print(f\"XGBoost 파인튜닝 후 최고 성능: {xgb_fine_grid.best_score_:.6f}\")\n",
        "print(f\"XGBoost 최적 파라미터: {xgb_fine_grid.best_params_}\")\n",
        "\n",
        "# light gbm\n",
        "print(\"\\nLightGBM 파인튜닝 중 (RandomizedSearch)...\")\n",
        "\n",
        "# 파라미터 범위를 넓게 주고, 일부만 샘플링\n",
        "lgb_fine_params = {\n",
        "    'n_estimators': randint(200, 401),\n",
        "    'max_depth': randint(6, 13),\n",
        "    'learning_rate': uniform(0.03, 0.12),  # 0.03 ~ 0.15\n",
        "    'num_leaves': randint(80, 160),\n",
        "    'feature_fraction': uniform(0.8, 0.2)  # 0.8 ~ 1.0\n",
        "}\n",
        "\n",
        "lgb_fine_search = RandomizedSearchCV(\n",
        "    lgb_model,\n",
        "    lgb_fine_params,\n",
        "    n_iter=50,  # 시도할 조합 수\n",
        "    cv=kf,\n",
        "    scoring={'My score': my_scorer},\n",
        "    refit='My score',\n",
        "    verbose=1,\n",
        "    n_jobs=-1,\n",
        "    random_state=42\n",
        ")\n",
        "\n",
        "lgb_fine_search.fit(X_train_scaled, y_train)\n",
        "print(f\"LightGBM 파인튜닝 후 최고 성능: {lgb_fine_search.best_score_:.6f}\")\n",
        "print(f\"LightGBM 최적 파라미터: {lgb_fine_search.best_params_}\")"
      ]
    },
    {
      "cell_type": "code",
      "execution_count": 43,
      "metadata": {},
      "outputs": [
        {
          "name": "stdout",
          "output_type": "stream",
          "text": [
            "\n",
            "==================================================\n",
            "파인튜닝된 모델들로 최종 Stacking\n",
            "==================================================\n",
            "\n",
            "최종 파인튜닝 결과:\n",
            "Accuracy: 0.661765\n",
            "F1 Score: 0.645301\n",
            "AUC: 0.724114\n",
            "Average Score: 0.677060\n"
          ]
        }
      ],
      "source": [
        "# 3. 파인튜닝된 모델들로 최종 Stacking\n",
        "print(\"\\n\" + \"=\" * 50)\n",
        "print(\"파인튜닝된 모델들로 최종 Stacking\")\n",
        "print(\"=\" * 50)\n",
        "\n",
        "# 파인튜닝된 모델들\n",
        "rf_fine = RandomForestClassifier(**rf_grid.best_params_, random_state=42, n_jobs=-1)\n",
        "xgb_fine = xgb.XGBClassifier(**xgb_fine_grid.best_params_, random_state=42, use_label_encoder=False, eval_metric='logloss', n_jobs=-1)\n",
        "# lgb_fine = lgb.LGBMClassifier(**lgb_fine_grid.best_params_, random_state=42, verbose=-1, n_jobs=-1)\n",
        "lgb_fine = lgb.LGBMClassifier(**lgb_fine_search.best_params_, random_state=42, verbose=-1, n_jobs=-1)\n",
        "\n",
        "\n",
        "# 최고 성능 메타 모델 사용\n",
        "final_stacking_clf = StackingClassifier(\n",
        "    estimators=[\n",
        "        ('rf', rf_fine),\n",
        "        ('xgb', xgb_fine),\n",
        "        ('lgb', lgb_fine)\n",
        "    ],\n",
        "    final_estimator=meta_models[best_meta_name],\n",
        "    cv=5,\n",
        "    stack_method='predict_proba'\n",
        ")\n",
        "\n",
        "final_stacking_clf.fit(X_train_scaled, y_train)\n",
        "\n",
        "# 최종 평가\n",
        "y_pred_final = final_stacking_clf.predict(X_val_scaled)\n",
        "y_pred_proba_final = final_stacking_clf.predict_proba(X_val_scaled)[:, 1]\n",
        "\n",
        "final_accuracy = accuracy_score(y_val, y_pred_final)\n",
        "final_f1 = f1_score(y_val, y_pred_final)\n",
        "final_auc = roc_auc_score(y_val, y_pred_proba_final)\n",
        "final_avg_score = (final_accuracy + final_f1 + final_auc) / 3\n",
        "\n",
        "print(f\"\\n최종 파인튜닝 결과:\")\n",
        "print(f\"Accuracy: {final_accuracy:.6f}\")\n",
        "print(f\"F1 Score: {final_f1:.6f}\")\n",
        "print(f\"AUC: {final_auc:.6f}\")\n",
        "print(f\"Average Score: {final_avg_score:.6f}\")\n"
      ]
    },
    {
      "cell_type": "code",
      "execution_count": 47,
      "metadata": {},
      "outputs": [
        {
          "name": "stdout",
          "output_type": "stream",
          "text": [
            "\n",
            "==================================================\n",
            "성능 개선 비교\n",
            "==================================================\n"
          ]
        },
        {
          "data": {
            "image/png": "[encoded data removed]",
            "text/plain": [
              "<Figure size 1000x600 with 1 Axes>"
            ]
          },
          "metadata": {},
          "output_type": "display_data"
        },
        {
          "name": "stdout",
          "output_type": "stream",
          "text": [
            "\n",
            "==================================================\n",
            "추가 개선 아이디어\n",
            "==================================================\n",
            "\n",
            "1. Feature Engineering:\n",
            "   - 키워드 관련 변수들의 조합 (예: kw_avg_avg / kw_max_avg)\n",
            "   - 정서 분석 변수들의 조합 (예: positive_polarity - negative_polarity)\n",
            "   - 시간 관련 특성 (주말 vs 평일의 영향 더 세밀하게)\n",
            "   \n",
            "2. 데이터 증강:\n",
            "   - SMOTE를 사용한 오버샘플링\n",
            "   - 클래스 불균형 처리\n",
            "   \n",
            "3. 더 복잡한 앙상블:\n",
            "   - 두 단계 이상의 Stacking\n",
            "   - Blending 기법\n",
            "   - Ensemble of Ensembles\n",
            "   \n",
            "4. 하이퍼파라미터 최적화:\n",
            "   - Bayesian Optimization\n",
            "   - Optuna 등의 고급 최적화 도구 사용\n",
            "\n",
            "\n",
            "최종 선택 모델: 파인튜닝된 Stacking (Average Score: 0.677060)\n"
          ]
        }
      ],
      "source": [
        "# 4. 성능 개선 정도 시각화\n",
        "print(\"\\n\" + \"=\" * 50)\n",
        "print(\"성능 개선 비교\")\n",
        "print(\"=\" * 50)\n",
        "\n",
        "improvement_data = [\n",
        "    [\"initial Stacking\", 0.675796],\n",
        "    [\"change meta model\", best_meta_score],\n",
        "    [\"after fine tuning\", final_avg_score]\n",
        "]\n",
        "\n",
        "improvement_df = pd.DataFrame(improvement_data, columns=[\"Stage\", \"Average Score\"])\n",
        "\n",
        "plt.figure(figsize=(10, 6))\n",
        "bars = plt.bar(improvement_df[\"Stage\"], improvement_df[\"Average Score\"], color=['skyblue', 'lightgreen', 'coral'])\n",
        "plt.ylabel('Average Score')\n",
        "plt.title('Performance Improvement Through Fine-tuning')\n",
        "plt.ylim(0.65, 0.7)\n",
        "\n",
        "# 값 표시\n",
        "for bar in bars:\n",
        "    height = bar.get_height()\n",
        "    plt.annotate(f'{height:.6f}',\n",
        "                xy=(bar.get_x() + bar.get_width() / 2, height),\n",
        "                xytext=(0, 3),\n",
        "                textcoords=\"offset points\",\n",
        "                ha='center', va='bottom')\n",
        "\n",
        "plt.grid(True, alpha=0.3)\n",
        "plt.tight_layout()\n",
        "plt.show()\n",
        "\n",
        "# 5. Feature Engineering 제안\n",
        "print(\"\\n\" + \"=\" * 50)\n",
        "print(\"추가 개선 아이디어\")\n",
        "print(\"=\" * 50)\n",
        "print(\"\"\"\n",
        "1. Feature Engineering:\n",
        "   - 키워드 관련 변수들의 조합 (예: kw_avg_avg / kw_max_avg)\n",
        "   - 정서 분석 변수들의 조합 (예: positive_polarity - negative_polarity)\n",
        "   - 시간 관련 특성 (주말 vs 평일의 영향 더 세밀하게)\n",
        "   \n",
        "2. 데이터 증강:\n",
        "   - SMOTE를 사용한 오버샘플링\n",
        "   - 클래스 불균형 처리\n",
        "   \n",
        "3. 더 복잡한 앙상블:\n",
        "   - 두 단계 이상의 Stacking\n",
        "   - Blending 기법\n",
        "   - Ensemble of Ensembles\n",
        "   \n",
        "4. 하이퍼파라미터 최적화:\n",
        "   - Bayesian Optimization\n",
        "   - Optuna 등의 고급 최적화 도구 사용\n",
        "\"\"\")\n",
        "\n",
        "# 저장할 최종 모델 선정\n",
        "if final_avg_score > best_meta_score:\n",
        "    final_model = final_stacking_clf\n",
        "    final_score = final_avg_score\n",
        "    print(f\"\\n최종 선택 모델: 파인튜닝된 Stacking (Average Score: {final_score:.6f})\")\n",
        "else:\n",
        "    final_model = StackingClassifier(\n",
        "        estimators=[\n",
        "            ('rf', rf_final),\n",
        "            ('xgb', xgb_final),\n",
        "            ('lgb', lgb_final)\n",
        "        ],\n",
        "        final_estimator=meta_models[best_meta_name],\n",
        "        cv=5,\n",
        "        stack_method='predict_proba'\n",
        "    )\n",
        "    final_score = best_meta_score\n",
        "    print(f\"\\n최종 선택 모델: {best_meta_name} 메타 모델 Stacking (Average Score: {final_score:.6f})\")"
      ]
    }
  ],
  "metadata": {
    "colab": {
      "collapsed_sections": [
        "i8a5HccX5IVD",
        "1b59MIE-TzyT"
      ],
      "provenance": []
    },
    "kernelspec": {
      "display_name": "myenv",
      "language": "python",
      "name": "myenv"
    },
    "language_info": {
      "codemirror_mode": {
        "name": "ipython",
        "version": 3
      },
      "file_extension": ".py",
      "mimetype": "text/x-python",
      "name": "python",
      "nbconvert_exporter": "python",
      "pygments_lexer": "ipython3",
      "version": "3.11.5"
    }
  },
  "nbformat": 4,
  "nbformat_minor": 0
}
